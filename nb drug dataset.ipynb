{
 "cells": [
  {
   "cell_type": "code",
   "execution_count": 1,
   "metadata": {
    "executionInfo": {
     "elapsed": 1861,
     "status": "ok",
     "timestamp": 1707154525080,
     "user": {
      "displayName": "Narasimharao",
      "userId": "17097520752763909307"
     },
     "user_tz": -330
    },
    "id": "-5TRVCqZwOq2"
   },
   "outputs": [],
   "source": [
    "import pandas as pd\n",
    "import numpy as np\n",
    "import matplotlib.pyplot as plt\n",
    "import seaborn as sns\n",
    "import re\n",
    "from sklearn.feature_extraction.text import CountVectorizer,TfidfVectorizer\n",
    "from sklearn.preprocessing import StandardScaler,OneHotEncoder,OrdinalEncoder,FunctionTransformer\n",
    "from sklearn.preprocessing import PowerTransformer\n",
    "from sklearn.compose import ColumnTransformer\n",
    "from sklearn.pipeline import Pipeline,make_pipelinePPPPPP\n",
    "from sklearn.model_selection import train_test_split\n",
    "from sklearn.impute import SimpleImputer"
   ]
  },
  {
   "cell_type": "markdown",
   "metadata": {
    "id": "HfaZkOgjwOq2"
   },
   "source": [
    "## 1.Problem Statement\n",
    "- Create a model to classify the Drug type based on their features"
   ]
  },
  {
   "cell_type": "markdown",
   "metadata": {
    "id": "Eid79mq7wOq6"
   },
   "source": [
    "##  2.Data Collection"
   ]
  },
  {
   "cell_type": "code",
   "execution_count": 2,
   "metadata": {
    "colab": {
     "base_uri": "https://localhost:8080/",
     "height": 206
    },
    "executionInfo": {
     "elapsed": 33,
     "status": "ok",
     "timestamp": 1707154525081,
     "user": {
      "displayName": "Narasimharao",
      "userId": "17097520752763909307"
     },
     "user_tz": -330
    },
    "id": "pNKTioGFwOq7",
    "outputId": "3778375b-3b1c-4dc3-e38f-cb7881e12e7c"
   },
   "outputs": [
    {
     "data": {
      "text/html": [
       "<div>\n",
       "<style scoped>\n",
       "    .dataframe tbody tr th:only-of-type {\n",
       "        vertical-align: middle;\n",
       "    }\n",
       "\n",
       "    .dataframe tbody tr th {\n",
       "        vertical-align: top;\n",
       "    }\n",
       "\n",
       "    .dataframe thead th {\n",
       "        text-align: right;\n",
       "    }\n",
       "</style>\n",
       "<table border=\"1\" class=\"dataframe\">\n",
       "  <thead>\n",
       "    <tr style=\"text-align: right;\">\n",
       "      <th></th>\n",
       "      <th>Age</th>\n",
       "      <th>Sex</th>\n",
       "      <th>BP</th>\n",
       "      <th>Cholesterol</th>\n",
       "      <th>Na_to_K</th>\n",
       "      <th>Drug</th>\n",
       "    </tr>\n",
       "  </thead>\n",
       "  <tbody>\n",
       "    <tr>\n",
       "      <th>0</th>\n",
       "      <td>23</td>\n",
       "      <td>F</td>\n",
       "      <td>HIGH</td>\n",
       "      <td>HIGH</td>\n",
       "      <td>25.355</td>\n",
       "      <td>DrugY</td>\n",
       "    </tr>\n",
       "    <tr>\n",
       "      <th>1</th>\n",
       "      <td>47</td>\n",
       "      <td>M</td>\n",
       "      <td>LOW</td>\n",
       "      <td>HIGH</td>\n",
       "      <td>13.093</td>\n",
       "      <td>drugC</td>\n",
       "    </tr>\n",
       "    <tr>\n",
       "      <th>2</th>\n",
       "      <td>47</td>\n",
       "      <td>M</td>\n",
       "      <td>LOW</td>\n",
       "      <td>HIGH</td>\n",
       "      <td>10.114</td>\n",
       "      <td>drugC</td>\n",
       "    </tr>\n",
       "    <tr>\n",
       "      <th>3</th>\n",
       "      <td>28</td>\n",
       "      <td>F</td>\n",
       "      <td>NORMAL</td>\n",
       "      <td>HIGH</td>\n",
       "      <td>7.798</td>\n",
       "      <td>drugX</td>\n",
       "    </tr>\n",
       "    <tr>\n",
       "      <th>4</th>\n",
       "      <td>61</td>\n",
       "      <td>F</td>\n",
       "      <td>LOW</td>\n",
       "      <td>HIGH</td>\n",
       "      <td>18.043</td>\n",
       "      <td>DrugY</td>\n",
       "    </tr>\n",
       "    <tr>\n",
       "      <th>...</th>\n",
       "      <td>...</td>\n",
       "      <td>...</td>\n",
       "      <td>...</td>\n",
       "      <td>...</td>\n",
       "      <td>...</td>\n",
       "      <td>...</td>\n",
       "    </tr>\n",
       "    <tr>\n",
       "      <th>195</th>\n",
       "      <td>56</td>\n",
       "      <td>F</td>\n",
       "      <td>LOW</td>\n",
       "      <td>HIGH</td>\n",
       "      <td>11.567</td>\n",
       "      <td>drugC</td>\n",
       "    </tr>\n",
       "    <tr>\n",
       "      <th>196</th>\n",
       "      <td>16</td>\n",
       "      <td>M</td>\n",
       "      <td>LOW</td>\n",
       "      <td>HIGH</td>\n",
       "      <td>12.006</td>\n",
       "      <td>drugC</td>\n",
       "    </tr>\n",
       "    <tr>\n",
       "      <th>197</th>\n",
       "      <td>52</td>\n",
       "      <td>M</td>\n",
       "      <td>NORMAL</td>\n",
       "      <td>HIGH</td>\n",
       "      <td>9.894</td>\n",
       "      <td>drugX</td>\n",
       "    </tr>\n",
       "    <tr>\n",
       "      <th>198</th>\n",
       "      <td>23</td>\n",
       "      <td>M</td>\n",
       "      <td>NORMAL</td>\n",
       "      <td>NORMAL</td>\n",
       "      <td>14.020</td>\n",
       "      <td>drugX</td>\n",
       "    </tr>\n",
       "    <tr>\n",
       "      <th>199</th>\n",
       "      <td>40</td>\n",
       "      <td>F</td>\n",
       "      <td>LOW</td>\n",
       "      <td>NORMAL</td>\n",
       "      <td>11.349</td>\n",
       "      <td>drugX</td>\n",
       "    </tr>\n",
       "  </tbody>\n",
       "</table>\n",
       "<p>200 rows × 6 columns</p>\n",
       "</div>"
      ],
      "text/plain": [
       "     Age Sex      BP Cholesterol  Na_to_K   Drug\n",
       "0     23   F    HIGH        HIGH   25.355  DrugY\n",
       "1     47   M     LOW        HIGH   13.093  drugC\n",
       "2     47   M     LOW        HIGH   10.114  drugC\n",
       "3     28   F  NORMAL        HIGH    7.798  drugX\n",
       "4     61   F     LOW        HIGH   18.043  DrugY\n",
       "..   ...  ..     ...         ...      ...    ...\n",
       "195   56   F     LOW        HIGH   11.567  drugC\n",
       "196   16   M     LOW        HIGH   12.006  drugC\n",
       "197   52   M  NORMAL        HIGH    9.894  drugX\n",
       "198   23   M  NORMAL      NORMAL   14.020  drugX\n",
       "199   40   F     LOW      NORMAL   11.349  drugX\n",
       "\n",
       "[200 rows x 6 columns]"
      ]
     },
     "execution_count": 2,
     "metadata": {},
     "output_type": "execute_result"
    }
   ],
   "source": [
    "data = pd.read_csv(r\"C:\\Users\\Hari D\\Downloads\\drug200.csv\")\n",
    "data"
   ]
  },
  {
   "cell_type": "code",
   "execution_count": 3,
   "metadata": {},
   "outputs": [
    {
     "data": {
      "text/html": [
       "<div>\n",
       "<style scoped>\n",
       "    .dataframe tbody tr th:only-of-type {\n",
       "        vertical-align: middle;\n",
       "    }\n",
       "\n",
       "    .dataframe tbody tr th {\n",
       "        vertical-align: top;\n",
       "    }\n",
       "\n",
       "    .dataframe thead th {\n",
       "        text-align: right;\n",
       "    }\n",
       "</style>\n",
       "<table border=\"1\" class=\"dataframe\">\n",
       "  <thead>\n",
       "    <tr style=\"text-align: right;\">\n",
       "      <th></th>\n",
       "      <th>Age</th>\n",
       "      <th>Sex</th>\n",
       "      <th>BP</th>\n",
       "      <th>Cholesterol</th>\n",
       "      <th>Na_to_K</th>\n",
       "      <th>Drug</th>\n",
       "    </tr>\n",
       "  </thead>\n",
       "  <tbody>\n",
       "    <tr>\n",
       "      <th>0</th>\n",
       "      <td>23</td>\n",
       "      <td>F</td>\n",
       "      <td>HIGH</td>\n",
       "      <td>HIGH</td>\n",
       "      <td>25.355</td>\n",
       "      <td>DrugY</td>\n",
       "    </tr>\n",
       "    <tr>\n",
       "      <th>1</th>\n",
       "      <td>47</td>\n",
       "      <td>M</td>\n",
       "      <td>LOW</td>\n",
       "      <td>HIGH</td>\n",
       "      <td>13.093</td>\n",
       "      <td>drugC</td>\n",
       "    </tr>\n",
       "    <tr>\n",
       "      <th>2</th>\n",
       "      <td>47</td>\n",
       "      <td>M</td>\n",
       "      <td>LOW</td>\n",
       "      <td>HIGH</td>\n",
       "      <td>10.114</td>\n",
       "      <td>drugC</td>\n",
       "    </tr>\n",
       "    <tr>\n",
       "      <th>3</th>\n",
       "      <td>28</td>\n",
       "      <td>F</td>\n",
       "      <td>NORMAL</td>\n",
       "      <td>HIGH</td>\n",
       "      <td>7.798</td>\n",
       "      <td>drugX</td>\n",
       "    </tr>\n",
       "    <tr>\n",
       "      <th>4</th>\n",
       "      <td>61</td>\n",
       "      <td>F</td>\n",
       "      <td>LOW</td>\n",
       "      <td>HIGH</td>\n",
       "      <td>18.043</td>\n",
       "      <td>DrugY</td>\n",
       "    </tr>\n",
       "  </tbody>\n",
       "</table>\n",
       "</div>"
      ],
      "text/plain": [
       "   Age Sex      BP Cholesterol  Na_to_K   Drug\n",
       "0   23   F    HIGH        HIGH   25.355  DrugY\n",
       "1   47   M     LOW        HIGH   13.093  drugC\n",
       "2   47   M     LOW        HIGH   10.114  drugC\n",
       "3   28   F  NORMAL        HIGH    7.798  drugX\n",
       "4   61   F     LOW        HIGH   18.043  DrugY"
      ]
     },
     "execution_count": 3,
     "metadata": {},
     "output_type": "execute_result"
    }
   ],
   "source": [
    "df=data.copy()\n",
    "df.head()"
   ]
  },
  {
   "cell_type": "markdown",
   "metadata": {
    "id": "qtaA2AM0wOq8"
   },
   "source": [
    "##  3.EDA"
   ]
  },
  {
   "cell_type": "code",
   "execution_count": 4,
   "metadata": {
    "colab": {
     "base_uri": "https://localhost:8080/"
    },
    "executionInfo": {
     "elapsed": 31,
     "status": "ok",
     "timestamp": 1707154525081,
     "user": {
      "displayName": "Narasimharao",
      "userId": "17097520752763909307"
     },
     "user_tz": -330
    },
    "id": "9q6M8WnPwOq9",
    "outputId": "9a0d1c7e-1539-4e4f-9ece-0942c35a6a56"
   },
   "outputs": [
    {
     "data": {
      "text/plain": [
       "(200, 6)"
      ]
     },
     "execution_count": 4,
     "metadata": {},
     "output_type": "execute_result"
    }
   ],
   "source": [
    "df.shape   "
   ]
  },
  {
   "cell_type": "code",
   "execution_count": 5,
   "metadata": {
    "colab": {
     "base_uri": "https://localhost:8080/"
    },
    "executionInfo": {
     "elapsed": 28,
     "status": "ok",
     "timestamp": 1707154525081,
     "user": {
      "displayName": "Narasimharao",
      "userId": "17097520752763909307"
     },
     "user_tz": -330
    },
    "id": "E87FakdcwOq9",
    "outputId": "100407d5-88fa-4965-e66d-7729667ee239"
   },
   "outputs": [
    {
     "name": "stdout",
     "output_type": "stream",
     "text": [
      "<class 'pandas.core.frame.DataFrame'>\n",
      "RangeIndex: 200 entries, 0 to 199\n",
      "Data columns (total 6 columns):\n",
      " #   Column       Non-Null Count  Dtype  \n",
      "---  ------       --------------  -----  \n",
      " 0   Age          200 non-null    int64  \n",
      " 1   Sex          200 non-null    object \n",
      " 2   BP           200 non-null    object \n",
      " 3   Cholesterol  200 non-null    object \n",
      " 4   Na_to_K      200 non-null    float64\n",
      " 5   Drug         200 non-null    object \n",
      "dtypes: float64(1), int64(1), object(4)\n",
      "memory usage: 9.5+ KB\n"
     ]
    }
   ],
   "source": [
    "df.info()"
   ]
  },
  {
   "cell_type": "code",
   "execution_count": 6,
   "metadata": {
    "executionInfo": {
     "elapsed": 27,
     "status": "ok",
     "timestamp": 1707154525081,
     "user": {
      "displayName": "Narasimharao",
      "userId": "17097520752763909307"
     },
     "user_tz": -330
    },
    "id": "Fw21aciFZxTA"
   },
   "outputs": [],
   "source": [
    "df[\"BP\"] = df[\"BP\"].astype(\"category\")\n",
    "df[\"Cholesterol\"] = df[\"Cholesterol\"].astype(\"category\")"
   ]
  },
  {
   "cell_type": "code",
   "execution_count": 7,
   "metadata": {
    "colab": {
     "base_uri": "https://localhost:8080/"
    },
    "executionInfo": {
     "elapsed": 28,
     "status": "ok",
     "timestamp": 1707154525082,
     "user": {
      "displayName": "Narasimharao",
      "userId": "17097520752763909307"
     },
     "user_tz": -330
    },
    "id": "-XjWyvWpiUwC",
    "outputId": "5f6c36d4-20ff-486c-ca7b-00913c75e3b3"
   },
   "outputs": [
    {
     "name": "stdout",
     "output_type": "stream",
     "text": [
      "<class 'pandas.core.frame.DataFrame'>\n",
      "RangeIndex: 200 entries, 0 to 199\n",
      "Data columns (total 6 columns):\n",
      " #   Column       Non-Null Count  Dtype   \n",
      "---  ------       --------------  -----   \n",
      " 0   Age          200 non-null    int64   \n",
      " 1   Sex          200 non-null    object  \n",
      " 2   BP           200 non-null    category\n",
      " 3   Cholesterol  200 non-null    category\n",
      " 4   Na_to_K      200 non-null    float64 \n",
      " 5   Drug         200 non-null    object  \n",
      "dtypes: category(2), float64(1), int64(1), object(2)\n",
      "memory usage: 7.0+ KB\n"
     ]
    }
   ],
   "source": [
    "df.info()"
   ]
  },
  {
   "cell_type": "code",
   "execution_count": 8,
   "metadata": {
    "colab": {
     "base_uri": "https://localhost:8080/"
    },
    "executionInfo": {
     "elapsed": 26,
     "status": "ok",
     "timestamp": 1707154525082,
     "user": {
      "displayName": "Narasimharao",
      "userId": "17097520752763909307"
     },
     "user_tz": -330
    },
    "id": "x3NRI-MswOq-",
    "outputId": "0da4a9ee-5196-45a6-803c-daa2114f0449"
   },
   "outputs": [
    {
     "data": {
      "text/plain": [
       "0"
      ]
     },
     "execution_count": 8,
     "metadata": {},
     "output_type": "execute_result"
    }
   ],
   "source": [
    "df.duplicated().sum()"
   ]
  },
  {
   "cell_type": "code",
   "execution_count": 9,
   "metadata": {},
   "outputs": [
    {
     "data": {
      "text/plain": [
       "Age            0\n",
       "Sex            0\n",
       "BP             0\n",
       "Cholesterol    0\n",
       "Na_to_K        0\n",
       "Drug           0\n",
       "dtype: int64"
      ]
     },
     "execution_count": 9,
     "metadata": {},
     "output_type": "execute_result"
    }
   ],
   "source": [
    "df.isnull().sum()"
   ]
  },
  {
   "cell_type": "code",
   "execution_count": 10,
   "metadata": {},
   "outputs": [
    {
     "data": {
      "text/html": [
       "<div>\n",
       "<style scoped>\n",
       "    .dataframe tbody tr th:only-of-type {\n",
       "        vertical-align: middle;\n",
       "    }\n",
       "\n",
       "    .dataframe tbody tr th {\n",
       "        vertical-align: top;\n",
       "    }\n",
       "\n",
       "    .dataframe thead th {\n",
       "        text-align: right;\n",
       "    }\n",
       "</style>\n",
       "<table border=\"1\" class=\"dataframe\">\n",
       "  <thead>\n",
       "    <tr style=\"text-align: right;\">\n",
       "      <th></th>\n",
       "      <th>Age</th>\n",
       "      <th>Na_to_K</th>\n",
       "    </tr>\n",
       "  </thead>\n",
       "  <tbody>\n",
       "    <tr>\n",
       "      <th>count</th>\n",
       "      <td>200.000000</td>\n",
       "      <td>200.000000</td>\n",
       "    </tr>\n",
       "    <tr>\n",
       "      <th>mean</th>\n",
       "      <td>44.315000</td>\n",
       "      <td>16.084485</td>\n",
       "    </tr>\n",
       "    <tr>\n",
       "      <th>std</th>\n",
       "      <td>16.544315</td>\n",
       "      <td>7.223956</td>\n",
       "    </tr>\n",
       "    <tr>\n",
       "      <th>min</th>\n",
       "      <td>15.000000</td>\n",
       "      <td>6.269000</td>\n",
       "    </tr>\n",
       "    <tr>\n",
       "      <th>25%</th>\n",
       "      <td>31.000000</td>\n",
       "      <td>10.445500</td>\n",
       "    </tr>\n",
       "    <tr>\n",
       "      <th>50%</th>\n",
       "      <td>45.000000</td>\n",
       "      <td>13.936500</td>\n",
       "    </tr>\n",
       "    <tr>\n",
       "      <th>75%</th>\n",
       "      <td>58.000000</td>\n",
       "      <td>19.380000</td>\n",
       "    </tr>\n",
       "    <tr>\n",
       "      <th>max</th>\n",
       "      <td>74.000000</td>\n",
       "      <td>38.247000</td>\n",
       "    </tr>\n",
       "  </tbody>\n",
       "</table>\n",
       "</div>"
      ],
      "text/plain": [
       "              Age     Na_to_K\n",
       "count  200.000000  200.000000\n",
       "mean    44.315000   16.084485\n",
       "std     16.544315    7.223956\n",
       "min     15.000000    6.269000\n",
       "25%     31.000000   10.445500\n",
       "50%     45.000000   13.936500\n",
       "75%     58.000000   19.380000\n",
       "max     74.000000   38.247000"
      ]
     },
     "execution_count": 10,
     "metadata": {},
     "output_type": "execute_result"
    }
   ],
   "source": [
    "df.describe()"
   ]
  },
  {
   "cell_type": "code",
   "execution_count": 11,
   "metadata": {
    "colab": {
     "base_uri": "https://localhost:8080/"
    },
    "executionInfo": {
     "elapsed": 25,
     "status": "ok",
     "timestamp": 1707154525082,
     "user": {
      "displayName": "Narasimharao",
      "userId": "17097520752763909307"
     },
     "user_tz": -330
    },
    "id": "K_6DP70ZwOq_",
    "outputId": "2b108a02-a6af-40c7-f876-9b922e25faee"
   },
   "outputs": [
    {
     "data": {
      "text/plain": [
       "DrugY    91\n",
       "drugX    54\n",
       "drugA    23\n",
       "drugC    16\n",
       "drugB    16\n",
       "Name: Drug, dtype: int64"
      ]
     },
     "execution_count": 11,
     "metadata": {},
     "output_type": "execute_result"
    }
   ],
   "source": [
    "df.Drug.value_counts()"
   ]
  },
  {
   "cell_type": "code",
   "execution_count": 12,
   "metadata": {
    "colab": {
     "base_uri": "https://localhost:8080/",
     "height": 449
    },
    "executionInfo": {
     "elapsed": 950,
     "status": "ok",
     "timestamp": 1707154526013,
     "user": {
      "displayName": "Narasimharao",
      "userId": "17097520752763909307"
     },
     "user_tz": -330
    },
    "id": "paLc3_ilwOrA",
    "outputId": "90f921d7-3507-4e2c-f9d4-8d7eda77ef61"
   },
   "outputs": [
    {
     "data": {
      "image/png": "[encoded data removed]",
      "text/plain": [
       "<Figure size 640x480 with 1 Axes>"
      ]
     },
     "metadata": {},
     "output_type": "display_data"
    }
   ],
   "source": [
    "sns.countplot(data = df, x='Drug')\n",
    "plt.title('Number of people taking each Durg when BP is high')\n",
    "plt.show()"
   ]
  },
  {
   "cell_type": "markdown",
   "metadata": {},
   "source": [
    "## 4.Pre-Processing"
   ]
  },
  {
   "cell_type": "code",
   "execution_count": 13,
   "metadata": {
    "executionInfo": {
     "elapsed": 45,
     "status": "ok",
     "timestamp": 1707154526013,
     "user": {
      "displayName": "Narasimharao",
      "userId": "17097520752763909307"
     },
     "user_tz": -330
    },
    "id": "ffPCIejzwOrA"
   },
   "outputs": [],
   "source": [
    "fv = df.iloc[:,:-1]   \n",
    "cv = df.iloc[:,-1]"
   ]
  },
  {
   "cell_type": "code",
   "execution_count": 14,
   "metadata": {
    "colab": {
     "base_uri": "https://localhost:8080/",
     "height": 206
    },
    "executionInfo": {
     "elapsed": 44,
     "status": "ok",
     "timestamp": 1707154526013,
     "user": {
      "displayName": "Narasimharao",
      "userId": "17097520752763909307"
     },
     "user_tz": -330
    },
    "id": "5LHWTj4ywOrA",
    "outputId": "03c63858-aa05-459c-cdfb-90f6ea86aff1"
   },
   "outputs": [
    {
     "data": {
      "text/html": [
       "<div>\n",
       "<style scoped>\n",
       "    .dataframe tbody tr th:only-of-type {\n",
       "        vertical-align: middle;\n",
       "    }\n",
       "\n",
       "    .dataframe tbody tr th {\n",
       "        vertical-align: top;\n",
       "    }\n",
       "\n",
       "    .dataframe thead th {\n",
       "        text-align: right;\n",
       "    }\n",
       "</style>\n",
       "<table border=\"1\" class=\"dataframe\">\n",
       "  <thead>\n",
       "    <tr style=\"text-align: right;\">\n",
       "      <th></th>\n",
       "      <th>Age</th>\n",
       "      <th>Sex</th>\n",
       "      <th>BP</th>\n",
       "      <th>Cholesterol</th>\n",
       "      <th>Na_to_K</th>\n",
       "    </tr>\n",
       "  </thead>\n",
       "  <tbody>\n",
       "    <tr>\n",
       "      <th>0</th>\n",
       "      <td>23</td>\n",
       "      <td>F</td>\n",
       "      <td>HIGH</td>\n",
       "      <td>HIGH</td>\n",
       "      <td>25.355</td>\n",
       "    </tr>\n",
       "    <tr>\n",
       "      <th>1</th>\n",
       "      <td>47</td>\n",
       "      <td>M</td>\n",
       "      <td>LOW</td>\n",
       "      <td>HIGH</td>\n",
       "      <td>13.093</td>\n",
       "    </tr>\n",
       "    <tr>\n",
       "      <th>2</th>\n",
       "      <td>47</td>\n",
       "      <td>M</td>\n",
       "      <td>LOW</td>\n",
       "      <td>HIGH</td>\n",
       "      <td>10.114</td>\n",
       "    </tr>\n",
       "    <tr>\n",
       "      <th>3</th>\n",
       "      <td>28</td>\n",
       "      <td>F</td>\n",
       "      <td>NORMAL</td>\n",
       "      <td>HIGH</td>\n",
       "      <td>7.798</td>\n",
       "    </tr>\n",
       "    <tr>\n",
       "      <th>4</th>\n",
       "      <td>61</td>\n",
       "      <td>F</td>\n",
       "      <td>LOW</td>\n",
       "      <td>HIGH</td>\n",
       "      <td>18.043</td>\n",
       "    </tr>\n",
       "    <tr>\n",
       "      <th>...</th>\n",
       "      <td>...</td>\n",
       "      <td>...</td>\n",
       "      <td>...</td>\n",
       "      <td>...</td>\n",
       "      <td>...</td>\n",
       "    </tr>\n",
       "    <tr>\n",
       "      <th>195</th>\n",
       "      <td>56</td>\n",
       "      <td>F</td>\n",
       "      <td>LOW</td>\n",
       "      <td>HIGH</td>\n",
       "      <td>11.567</td>\n",
       "    </tr>\n",
       "    <tr>\n",
       "      <th>196</th>\n",
       "      <td>16</td>\n",
       "      <td>M</td>\n",
       "      <td>LOW</td>\n",
       "      <td>HIGH</td>\n",
       "      <td>12.006</td>\n",
       "    </tr>\n",
       "    <tr>\n",
       "      <th>197</th>\n",
       "      <td>52</td>\n",
       "      <td>M</td>\n",
       "      <td>NORMAL</td>\n",
       "      <td>HIGH</td>\n",
       "      <td>9.894</td>\n",
       "    </tr>\n",
       "    <tr>\n",
       "      <th>198</th>\n",
       "      <td>23</td>\n",
       "      <td>M</td>\n",
       "      <td>NORMAL</td>\n",
       "      <td>NORMAL</td>\n",
       "      <td>14.020</td>\n",
       "    </tr>\n",
       "    <tr>\n",
       "      <th>199</th>\n",
       "      <td>40</td>\n",
       "      <td>F</td>\n",
       "      <td>LOW</td>\n",
       "      <td>NORMAL</td>\n",
       "      <td>11.349</td>\n",
       "    </tr>\n",
       "  </tbody>\n",
       "</table>\n",
       "<p>200 rows × 5 columns</p>\n",
       "</div>"
      ],
      "text/plain": [
       "     Age Sex      BP Cholesterol  Na_to_K\n",
       "0     23   F    HIGH        HIGH   25.355\n",
       "1     47   M     LOW        HIGH   13.093\n",
       "2     47   M     LOW        HIGH   10.114\n",
       "3     28   F  NORMAL        HIGH    7.798\n",
       "4     61   F     LOW        HIGH   18.043\n",
       "..   ...  ..     ...         ...      ...\n",
       "195   56   F     LOW        HIGH   11.567\n",
       "196   16   M     LOW        HIGH   12.006\n",
       "197   52   M  NORMAL        HIGH    9.894\n",
       "198   23   M  NORMAL      NORMAL   14.020\n",
       "199   40   F     LOW      NORMAL   11.349\n",
       "\n",
       "[200 rows x 5 columns]"
      ]
     },
     "execution_count": 14,
     "metadata": {},
     "output_type": "execute_result"
    }
   ],
   "source": [
    "fv"
   ]
  },
  {
   "cell_type": "code",
   "execution_count": 15,
   "metadata": {
    "colab": {
     "base_uri": "https://localhost:8080/"
    },
    "executionInfo": {
     "elapsed": 44,
     "status": "ok",
     "timestamp": 1707154526013,
     "user": {
      "displayName": "Narasimharao",
      "userId": "17097520752763909307"
     },
     "user_tz": -330
    },
    "id": "EreIhGPgwOrA",
    "outputId": "bdc4cb0b-76b6-431d-a8c7-e1b022028193"
   },
   "outputs": [
    {
     "data": {
      "text/plain": [
       "0      DrugY\n",
       "1      drugC\n",
       "2      drugC\n",
       "3      drugX\n",
       "4      DrugY\n",
       "       ...  \n",
       "195    drugC\n",
       "196    drugC\n",
       "197    drugX\n",
       "198    drugX\n",
       "199    drugX\n",
       "Name: Drug, Length: 200, dtype: object"
      ]
     },
     "execution_count": 15,
     "metadata": {},
     "output_type": "execute_result"
    }
   ],
   "source": [
    "cv"
   ]
  },
  {
   "cell_type": "code",
   "execution_count": 16,
   "metadata": {
    "executionInfo": {
     "elapsed": 42,
     "status": "ok",
     "timestamp": 1707154526013,
     "user": {
      "displayName": "Narasimharao",
      "userId": "17097520752763909307"
     },
     "user_tz": -330
    },
    "id": "r60eiJYdMqsP"
   },
   "outputs": [],
   "source": [
    "from sklearn.preprocessing import LabelEncoder\n",
    "lbe = LabelEncoder()    \n",
    "cv = lbe.fit_transform(cv)"
   ]
  },
  {
   "cell_type": "code",
   "execution_count": 17,
   "metadata": {
    "colab": {
     "base_uri": "https://localhost:8080/"
    },
    "executionInfo": {
     "elapsed": 42,
     "status": "ok",
     "timestamp": 1707154526013,
     "user": {
      "displayName": "Narasimharao",
      "userId": "17097520752763909307"
     },
     "user_tz": -330
    },
    "id": "k4hkFjKNMqu-",
    "outputId": "1cfa9df0-0646-4a73-858a-feea77ba2cab"
   },
   "outputs": [
    {
     "data": {
      "text/plain": [
       "array([0, 3, 3, 4, 0, 4, 0, 3, 0, 0, 3, 0, 0, 0, 4, 0, 4, 1, 3, 0, 0, 0,\n",
       "       0, 0, 0, 0, 0, 4, 0, 0, 4, 2, 4, 0, 4, 4, 1, 4, 4, 4, 0, 2, 0, 4,\n",
       "       4, 4, 1, 3, 0, 0, 0, 4, 0, 0, 2, 3, 2, 0, 4, 0, 0, 1, 0, 4, 2, 0,\n",
       "       1, 4, 0, 0, 2, 0, 4, 0, 0, 0, 1, 0, 1, 4, 2, 4, 3, 1, 3, 2, 4, 0,\n",
       "       0, 0, 0, 0, 0, 0, 0, 4, 0, 0, 0, 0, 1, 1, 3, 4, 0, 4, 4, 0, 2, 0,\n",
       "       1, 4, 4, 4, 4, 0, 4, 4, 1, 0, 0, 0, 0, 0, 2, 0, 0, 4, 0, 4, 0, 0,\n",
       "       4, 0, 0, 4, 2, 1, 2, 4, 1, 0, 2, 0, 1, 4, 4, 1, 4, 3, 1, 2, 4, 4,\n",
       "       0, 3, 1, 0, 3, 4, 4, 2, 4, 0, 0, 0, 0, 4, 0, 1, 4, 4, 0, 0, 1, 0,\n",
       "       1, 0, 0, 0, 0, 4, 4, 0, 0, 0, 2, 1, 0, 0, 0, 1, 0, 3, 0, 3, 3, 4,\n",
       "       4, 4])"
      ]
     },
     "execution_count": 17,
     "metadata": {},
     "output_type": "execute_result"
    }
   ],
   "source": [
    "cv"
   ]
  },
  {
   "cell_type": "markdown",
   "metadata": {
    "id": "ghxe4uXpwOrB"
   },
   "source": [
    "## 5. EDA"
   ]
  },
  {
   "cell_type": "code",
   "execution_count": 18,
   "metadata": {
    "colab": {
     "base_uri": "https://localhost:8080/",
     "height": 180
    },
    "executionInfo": {
     "elapsed": 397,
     "status": "ok",
     "timestamp": 1707154547567,
     "user": {
      "displayName": "Narasimharao",
      "userId": "17097520752763909307"
     },
     "user_tz": -330
    },
    "id": "5tjMxcfMwOrC",
    "outputId": "e6586019-69a7-46cf-92fb-a13f01db5bef"
   },
   "outputs": [
    {
     "data": {
      "text/html": [
       "<div>\n",
       "<style scoped>\n",
       "    .dataframe tbody tr th:only-of-type {\n",
       "        vertical-align: middle;\n",
       "    }\n",
       "\n",
       "    .dataframe tbody tr th {\n",
       "        vertical-align: top;\n",
       "    }\n",
       "\n",
       "    .dataframe thead th {\n",
       "        text-align: right;\n",
       "    }\n",
       "</style>\n",
       "<table border=\"1\" class=\"dataframe\">\n",
       "  <thead>\n",
       "    <tr style=\"text-align: right;\">\n",
       "      <th></th>\n",
       "      <th>Age</th>\n",
       "      <th>Na_to_K</th>\n",
       "    </tr>\n",
       "  </thead>\n",
       "  <tbody>\n",
       "    <tr>\n",
       "      <th>Age</th>\n",
       "      <td>1.000000</td>\n",
       "      <td>-0.063119</td>\n",
       "    </tr>\n",
       "    <tr>\n",
       "      <th>Na_to_K</th>\n",
       "      <td>-0.063119</td>\n",
       "      <td>1.000000</td>\n",
       "    </tr>\n",
       "  </tbody>\n",
       "</table>\n",
       "</div>"
      ],
      "text/plain": [
       "              Age   Na_to_K\n",
       "Age      1.000000 -0.063119\n",
       "Na_to_K -0.063119  1.000000"
      ]
     },
     "execution_count": 18,
     "metadata": {},
     "output_type": "execute_result"
    }
   ],
   "source": [
    "cor = fv.corr(numeric_only=True)\n",
    "cor"
   ]
  },
  {
   "cell_type": "code",
   "execution_count": 19,
   "metadata": {
    "colab": {
     "base_uri": "https://localhost:8080/",
     "height": 435
    },
    "executionInfo": {
     "elapsed": 1189,
     "status": "ok",
     "timestamp": 1707154554919,
     "user": {
      "displayName": "Narasimharao",
      "userId": "17097520752763909307"
     },
     "user_tz": -330
    },
    "id": "yyeljF8lwOrC",
    "outputId": "80460f29-290f-47ec-d226-8799d29a385e"
   },
   "outputs": [
    {
     "data": {
      "image/png": "[encoded data removed]",
      "text/plain": [
       "<Figure size 640x480 with 2 Axes>"
      ]
     },
     "metadata": {},
     "output_type": "display_data"
    }
   ],
   "source": [
    "sns.heatmap(cor, annot=True, cmap='YlGnBu')\n",
    "plt.show()"
   ]
  },
  {
   "cell_type": "markdown",
   "metadata": {
    "id": "3iqVVb2ES-Jp"
   },
   "source": [
    "### 6.Feature Engineering"
   ]
  },
  {
   "cell_type": "code",
   "execution_count": 20,
   "metadata": {
    "executionInfo": {
     "elapsed": 605,
     "status": "ok",
     "timestamp": 1707154571190,
     "user": {
      "displayName": "Narasimharao",
      "userId": "17097520752763909307"
     },
     "user_tz": -330
    },
    "id": "7Zzzwdy5JM84"
   },
   "outputs": [],
   "source": [
    "x_train,x_test,y_train,y_test=train_test_split(fv,cv,test_size=0.2,stratify = cv)"
   ]
  },
  {
   "cell_type": "code",
   "execution_count": 21,
   "metadata": {
    "executionInfo": {
     "elapsed": 4,
     "status": "ok",
     "timestamp": 1707154572751,
     "user": {
      "displayName": "Narasimharao",
      "userId": "17097520752763909307"
     },
     "user_tz": -330
    },
    "id": "-LX3MEEKJUZm"
   },
   "outputs": [],
   "source": [
    "numerical_data=x_train.select_dtypes(include=[\"int64\",\"float64\"])\n",
    "nominal_data=x_train.select_dtypes(include=[\"object\"])\n",
    "ordinal_data = x_train.select_dtypes(include = [\"category\"])"
   ]
  },
  {
   "cell_type": "code",
   "execution_count": 22,
   "metadata": {
    "colab": {
     "base_uri": "https://localhost:8080/",
     "height": 206
    },
    "executionInfo": {
     "elapsed": 13,
     "status": "ok",
     "timestamp": 1707154574292,
     "user": {
      "displayName": "Narasimharao",
      "userId": "17097520752763909307"
     },
     "user_tz": -330
    },
    "id": "Y2Jz2gYkJwxo",
    "outputId": "7fefa8cf-bc48-4c94-90b8-551f569e341f"
   },
   "outputs": [
    {
     "data": {
      "text/html": [
       "<div>\n",
       "<style scoped>\n",
       "    .dataframe tbody tr th:only-of-type {\n",
       "        vertical-align: middle;\n",
       "    }\n",
       "\n",
       "    .dataframe tbody tr th {\n",
       "        vertical-align: top;\n",
       "    }\n",
       "\n",
       "    .dataframe thead th {\n",
       "        text-align: right;\n",
       "    }\n",
       "</style>\n",
       "<table border=\"1\" class=\"dataframe\">\n",
       "  <thead>\n",
       "    <tr style=\"text-align: right;\">\n",
       "      <th></th>\n",
       "      <th>Age</th>\n",
       "      <th>Na_to_K</th>\n",
       "    </tr>\n",
       "  </thead>\n",
       "  <tbody>\n",
       "    <tr>\n",
       "      <th>136</th>\n",
       "      <td>55</td>\n",
       "      <td>10.977</td>\n",
       "    </tr>\n",
       "    <tr>\n",
       "      <th>188</th>\n",
       "      <td>65</td>\n",
       "      <td>34.997</td>\n",
       "    </tr>\n",
       "    <tr>\n",
       "      <th>75</th>\n",
       "      <td>26</td>\n",
       "      <td>20.909</td>\n",
       "    </tr>\n",
       "    <tr>\n",
       "      <th>169</th>\n",
       "      <td>20</td>\n",
       "      <td>11.262</td>\n",
       "    </tr>\n",
       "    <tr>\n",
       "      <th>25</th>\n",
       "      <td>28</td>\n",
       "      <td>18.809</td>\n",
       "    </tr>\n",
       "    <tr>\n",
       "      <th>...</th>\n",
       "      <td>...</td>\n",
       "      <td>...</td>\n",
       "    </tr>\n",
       "    <tr>\n",
       "      <th>104</th>\n",
       "      <td>22</td>\n",
       "      <td>28.294</td>\n",
       "    </tr>\n",
       "    <tr>\n",
       "      <th>172</th>\n",
       "      <td>39</td>\n",
       "      <td>17.225</td>\n",
       "    </tr>\n",
       "    <tr>\n",
       "      <th>159</th>\n",
       "      <td>34</td>\n",
       "      <td>12.923</td>\n",
       "    </tr>\n",
       "    <tr>\n",
       "      <th>155</th>\n",
       "      <td>49</td>\n",
       "      <td>10.537</td>\n",
       "    </tr>\n",
       "    <tr>\n",
       "      <th>3</th>\n",
       "      <td>28</td>\n",
       "      <td>7.798</td>\n",
       "    </tr>\n",
       "  </tbody>\n",
       "</table>\n",
       "<p>160 rows × 2 columns</p>\n",
       "</div>"
      ],
      "text/plain": [
       "     Age  Na_to_K\n",
       "136   55   10.977\n",
       "188   65   34.997\n",
       "75    26   20.909\n",
       "169   20   11.262\n",
       "25    28   18.809\n",
       "..   ...      ...\n",
       "104   22   28.294\n",
       "172   39   17.225\n",
       "159   34   12.923\n",
       "155   49   10.537\n",
       "3     28    7.798\n",
       "\n",
       "[160 rows x 2 columns]"
      ]
     },
     "execution_count": 22,
     "metadata": {},
     "output_type": "execute_result"
    }
   ],
   "source": [
    "numerical_data"
   ]
  },
  {
   "cell_type": "code",
   "execution_count": 23,
   "metadata": {
    "colab": {
     "base_uri": "https://localhost:8080/",
     "height": 206
    },
    "executionInfo": {
     "elapsed": 427,
     "status": "ok",
     "timestamp": 1707154578594,
     "user": {
      "displayName": "Narasimharao",
      "userId": "17097520752763909307"
     },
     "user_tz": -330
    },
    "id": "ZlqmfZOJBX8m",
    "outputId": "ba488b06-4ab7-4c0b-8e39-5460636ea167"
   },
   "outputs": [
    {
     "data": {
      "text/html": [
       "<div>\n",
       "<style scoped>\n",
       "    .dataframe tbody tr th:only-of-type {\n",
       "        vertical-align: middle;\n",
       "    }\n",
       "\n",
       "    .dataframe tbody tr th {\n",
       "        vertical-align: top;\n",
       "    }\n",
       "\n",
       "    .dataframe thead th {\n",
       "        text-align: right;\n",
       "    }\n",
       "</style>\n",
       "<table border=\"1\" class=\"dataframe\">\n",
       "  <thead>\n",
       "    <tr style=\"text-align: right;\">\n",
       "      <th></th>\n",
       "      <th>BP</th>\n",
       "      <th>Cholesterol</th>\n",
       "    </tr>\n",
       "  </thead>\n",
       "  <tbody>\n",
       "    <tr>\n",
       "      <th>136</th>\n",
       "      <td>HIGH</td>\n",
       "      <td>HIGH</td>\n",
       "    </tr>\n",
       "    <tr>\n",
       "      <th>188</th>\n",
       "      <td>HIGH</td>\n",
       "      <td>NORMAL</td>\n",
       "    </tr>\n",
       "    <tr>\n",
       "      <th>75</th>\n",
       "      <td>LOW</td>\n",
       "      <td>NORMAL</td>\n",
       "    </tr>\n",
       "    <tr>\n",
       "      <th>169</th>\n",
       "      <td>HIGH</td>\n",
       "      <td>HIGH</td>\n",
       "    </tr>\n",
       "    <tr>\n",
       "      <th>25</th>\n",
       "      <td>HIGH</td>\n",
       "      <td>NORMAL</td>\n",
       "    </tr>\n",
       "    <tr>\n",
       "      <th>...</th>\n",
       "      <td>...</td>\n",
       "      <td>...</td>\n",
       "    </tr>\n",
       "    <tr>\n",
       "      <th>104</th>\n",
       "      <td>HIGH</td>\n",
       "      <td>NORMAL</td>\n",
       "    </tr>\n",
       "    <tr>\n",
       "      <th>172</th>\n",
       "      <td>NORMAL</td>\n",
       "      <td>NORMAL</td>\n",
       "    </tr>\n",
       "    <tr>\n",
       "      <th>159</th>\n",
       "      <td>LOW</td>\n",
       "      <td>NORMAL</td>\n",
       "    </tr>\n",
       "    <tr>\n",
       "      <th>155</th>\n",
       "      <td>LOW</td>\n",
       "      <td>HIGH</td>\n",
       "    </tr>\n",
       "    <tr>\n",
       "      <th>3</th>\n",
       "      <td>NORMAL</td>\n",
       "      <td>HIGH</td>\n",
       "    </tr>\n",
       "  </tbody>\n",
       "</table>\n",
       "<p>160 rows × 2 columns</p>\n",
       "</div>"
      ],
      "text/plain": [
       "         BP Cholesterol\n",
       "136    HIGH        HIGH\n",
       "188    HIGH      NORMAL\n",
       "75      LOW      NORMAL\n",
       "169    HIGH        HIGH\n",
       "25     HIGH      NORMAL\n",
       "..      ...         ...\n",
       "104    HIGH      NORMAL\n",
       "172  NORMAL      NORMAL\n",
       "159     LOW      NORMAL\n",
       "155     LOW        HIGH\n",
       "3    NORMAL        HIGH\n",
       "\n",
       "[160 rows x 2 columns]"
      ]
     },
     "execution_count": 23,
     "metadata": {},
     "output_type": "execute_result"
    }
   ],
   "source": [
    "ordinal_data"
   ]
  },
  {
   "cell_type": "code",
   "execution_count": 24,
   "metadata": {
    "colab": {
     "base_uri": "https://localhost:8080/",
     "height": 206
    },
    "executionInfo": {
     "elapsed": 11,
     "status": "ok",
     "timestamp": 1707154579833,
     "user": {
      "displayName": "Narasimharao",
      "userId": "17097520752763909307"
     },
     "user_tz": -330
    },
    "id": "-HDdhfl_Jw0m",
    "outputId": "34d061d5-076c-4eb5-87ee-5264f5c49638"
   },
   "outputs": [
    {
     "data": {
      "text/html": [
       "<div>\n",
       "<style scoped>\n",
       "    .dataframe tbody tr th:only-of-type {\n",
       "        vertical-align: middle;\n",
       "    }\n",
       "\n",
       "    .dataframe tbody tr th {\n",
       "        vertical-align: top;\n",
       "    }\n",
       "\n",
       "    .dataframe thead th {\n",
       "        text-align: right;\n",
       "    }\n",
       "</style>\n",
       "<table border=\"1\" class=\"dataframe\">\n",
       "  <thead>\n",
       "    <tr style=\"text-align: right;\">\n",
       "      <th></th>\n",
       "      <th>Sex</th>\n",
       "    </tr>\n",
       "  </thead>\n",
       "  <tbody>\n",
       "    <tr>\n",
       "      <th>136</th>\n",
       "      <td>F</td>\n",
       "    </tr>\n",
       "    <tr>\n",
       "      <th>188</th>\n",
       "      <td>M</td>\n",
       "    </tr>\n",
       "    <tr>\n",
       "      <th>75</th>\n",
       "      <td>M</td>\n",
       "    </tr>\n",
       "    <tr>\n",
       "      <th>169</th>\n",
       "      <td>F</td>\n",
       "    </tr>\n",
       "    <tr>\n",
       "      <th>25</th>\n",
       "      <td>F</td>\n",
       "    </tr>\n",
       "    <tr>\n",
       "      <th>...</th>\n",
       "      <td>...</td>\n",
       "    </tr>\n",
       "    <tr>\n",
       "      <th>104</th>\n",
       "      <td>M</td>\n",
       "    </tr>\n",
       "    <tr>\n",
       "      <th>172</th>\n",
       "      <td>F</td>\n",
       "    </tr>\n",
       "    <tr>\n",
       "      <th>159</th>\n",
       "      <td>F</td>\n",
       "    </tr>\n",
       "    <tr>\n",
       "      <th>155</th>\n",
       "      <td>M</td>\n",
       "    </tr>\n",
       "    <tr>\n",
       "      <th>3</th>\n",
       "      <td>F</td>\n",
       "    </tr>\n",
       "  </tbody>\n",
       "</table>\n",
       "<p>160 rows × 1 columns</p>\n",
       "</div>"
      ],
      "text/plain": [
       "    Sex\n",
       "136   F\n",
       "188   M\n",
       "75    M\n",
       "169   F\n",
       "25    F\n",
       "..   ..\n",
       "104   M\n",
       "172   F\n",
       "159   F\n",
       "155   M\n",
       "3     F\n",
       "\n",
       "[160 rows x 1 columns]"
      ]
     },
     "execution_count": 24,
     "metadata": {},
     "output_type": "execute_result"
    }
   ],
   "source": [
    "nominal_data"
   ]
  },
  {
   "cell_type": "code",
   "execution_count": 25,
   "metadata": {
    "colab": {
     "base_uri": "https://localhost:8080/"
    },
    "executionInfo": {
     "elapsed": 5,
     "status": "ok",
     "timestamp": 1707154580518,
     "user": {
      "displayName": "Narasimharao",
      "userId": "17097520752763909307"
     },
     "user_tz": -330
    },
    "id": "s8fqS29ZJw3L",
    "outputId": "bec0f772-824b-4805-ad65-687dab60e2df"
   },
   "outputs": [
    {
     "data": {
      "text/plain": [
       "Index(['BP', 'Cholesterol'], dtype='object')"
      ]
     },
     "execution_count": 25,
     "metadata": {},
     "output_type": "execute_result"
    }
   ],
   "source": [
    "ordinal_data.columns"
   ]
  },
  {
   "cell_type": "code",
   "execution_count": 26,
   "metadata": {
    "executionInfo": {
     "elapsed": 5,
     "status": "ok",
     "timestamp": 1707154581477,
     "user": {
      "displayName": "Narasimharao",
      "userId": "17097520752763909307"
     },
     "user_tz": -330
    },
    "id": "wB5BkTCvJUcA"
   },
   "outputs": [],
   "source": [
    "nup=Pipeline([('Null_values_imputation_1', SimpleImputer(strategy='mean')),('StandardScalar', StandardScaler()),('Power_Transform',PowerTransformer())])\n",
    "nom_p = Pipeline([('Null_values_imputation_2', SimpleImputer(strategy='most_frequent')),('OH_Encoding', OneHotEncoder(sparse_output= False,drop= 'first'))])\n",
    "ordinal_p = Pipeline([('Null_values_imputation_2', SimpleImputer(strategy='most_frequent')),\n",
    "                         ('Ordinal_Encoding', OrdinalEncoder(categories= [['NORMAL','LOW','HIGH'],['NORMAL','HIGH']]))])"
   ]
  },
  {
   "cell_type": "code",
   "execution_count": 27,
   "metadata": {
    "executionInfo": {
     "elapsed": 3,
     "status": "ok",
     "timestamp": 1707154582952,
     "user": {
      "displayName": "Narasimharao",
      "userId": "17097520752763909307"
     },
     "user_tz": -330
    },
    "id": "sdorDooJzuf0"
   },
   "outputs": [],
   "source": [
    "prepro_col_trans = ColumnTransformer(transformers= [('Ordinal_Pre-Processing', ordinal_p, ordinal_data.columns),\n",
    "                                                    ('Nominal_Pre-Processing', nom_p, nominal_data.columns),\n",
    "                                                    ('numerical_Pre-Processing', nup, numerical_data.columns)],remainder=\"passthrough\")"
   ]
  },
  {
   "cell_type": "code",
   "execution_count": 28,
   "metadata": {
    "executionInfo": {
     "elapsed": 4,
     "status": "ok",
     "timestamp": 1707154584673,
     "user": {
      "displayName": "Narasimharao",
      "userId": "17097520752763909307"
     },
     "user_tz": -330
    },
    "id": "-BZt8KgKzukn"
   },
   "outputs": [],
   "source": [
    "finalp = Pipeline([('Pre-Processing',prepro_col_trans)])"
   ]
  },
  {
   "cell_type": "code",
   "execution_count": 29,
   "metadata": {
    "colab": {
     "base_uri": "https://localhost:8080/",
     "height": 227
    },
    "executionInfo": {
     "elapsed": 21,
     "status": "ok",
     "timestamp": 1707154585341,
     "user": {
      "displayName": "Narasimharao",
      "userId": "17097520752763909307"
     },
     "user_tz": -330
    },
    "id": "G7kVj3ZL-qZH",
    "outputId": "56bb3b61-e4e9-4a31-f679-3f40639bb505"
   },
   "outputs": [
    {
     "data": {
      "text/html": [
       "<style>#sk-container-id-1 {color: black;background-color: white;}#sk-container-id-1 pre{padding: 0;}#sk-container-id-1 div.sk-toggleable {background-color: white;}#sk-container-id-1 label.sk-toggleable__label {cursor: pointer;display: block;width: 100%;margin-bottom: 0;padding: 0.3em;box-sizing: border-box;text-align: center;}#sk-container-id-1 label.sk-toggleable__label-arrow:before {content: \"▸\";float: left;margin-right: 0.25em;color: #696969;}#sk-container-id-1 label.sk-toggleable__label-arrow:hover:before {color: black;}#sk-container-id-1 div.sk-estimator:hover label.sk-toggleable__label-arrow:before {color: black;}#sk-container-id-1 div.sk-toggleable__content {max-height: 0;max-width: 0;overflow: hidden;text-align: left;background-color: #f0f8ff;}#sk-container-id-1 div.sk-toggleable__content pre {margin: 0.2em;color: black;border-radius: 0.25em;background-color: #f0f8ff;}#sk-container-id-1 input.sk-toggleable__control:checked~div.sk-toggleable__content {max-height: 200px;max-width: 100%;overflow: auto;}#sk-container-id-1 input.sk-toggleable__control:checked~label.sk-toggleable__label-arrow:before {content: \"▾\";}#sk-container-id-1 div.sk-estimator input.sk-toggleable__control:checked~label.sk-toggleable__label {background-color: #d4ebff;}#sk-container-id-1 div.sk-label input.sk-toggleable__control:checked~label.sk-toggleable__label {background-color: #d4ebff;}#sk-container-id-1 input.sk-hidden--visually {border: 0;clip: rect(1px 1px 1px 1px);clip: rect(1px, 1px, 1px, 1px);height: 1px;margin: -1px;overflow: hidden;padding: 0;position: absolute;width: 1px;}#sk-container-id-1 div.sk-estimator {font-family: monospace;background-color: #f0f8ff;border: 1px dotted black;border-radius: 0.25em;box-sizing: border-box;margin-bottom: 0.5em;}#sk-container-id-1 div.sk-estimator:hover {background-color: #d4ebff;}#sk-container-id-1 div.sk-parallel-item::after {content: \"\";width: 100%;border-bottom: 1px solid gray;flex-grow: 1;}#sk-container-id-1 div.sk-label:hover label.sk-toggleable__label {background-color: #d4ebff;}#sk-container-id-1 div.sk-serial::before {content: \"\";position: absolute;border-left: 1px solid gray;box-sizing: border-box;top: 0;bottom: 0;left: 50%;z-index: 0;}#sk-container-id-1 div.sk-serial {display: flex;flex-direction: column;align-items: center;background-color: white;padding-right: 0.2em;padding-left: 0.2em;position: relative;}#sk-container-id-1 div.sk-item {position: relative;z-index: 1;}#sk-container-id-1 div.sk-parallel {display: flex;align-items: stretch;justify-content: center;background-color: white;position: relative;}#sk-container-id-1 div.sk-item::before, #sk-container-id-1 div.sk-parallel-item::before {content: \"\";position: absolute;border-left: 1px solid gray;box-sizing: border-box;top: 0;bottom: 0;left: 50%;z-index: -1;}#sk-container-id-1 div.sk-parallel-item {display: flex;flex-direction: column;z-index: 1;position: relative;background-color: white;}#sk-container-id-1 div.sk-parallel-item:first-child::after {align-self: flex-end;width: 50%;}#sk-container-id-1 div.sk-parallel-item:last-child::after {align-self: flex-start;width: 50%;}#sk-container-id-1 div.sk-parallel-item:only-child::after {width: 0;}#sk-container-id-1 div.sk-dashed-wrapped {border: 1px dashed gray;margin: 0 0.4em 0.5em 0.4em;box-sizing: border-box;padding-bottom: 0.4em;background-color: white;}#sk-container-id-1 div.sk-label label {font-family: monospace;font-weight: bold;display: inline-block;line-height: 1.2em;}#sk-container-id-1 div.sk-label-container {text-align: center;}#sk-container-id-1 div.sk-container {/* jupyter's `normalize.less` sets `[hidden] { display: none; }` but bootstrap.min.css set `[hidden] { display: none !important; }` so we also need the `!important` here to be able to override the default hidden behavior on the sphinx rendered scikit-learn.org. See: https://github.com/scikit-learn/scikit-learn/issues/21755 */display: inline-block !important;position: relative;}#sk-container-id-1 div.sk-text-repr-fallback {display: none;}</style><div id=\"sk-container-id-1\" class=\"sk-top-container\"><div class=\"sk-text-repr-fallback\"><pre>Pipeline(steps=[(&#x27;Pre-Processing&#x27;,\n",
       "                 ColumnTransformer(remainder=&#x27;passthrough&#x27;,\n",
       "                                   transformers=[(&#x27;Ordinal_Pre-Processing&#x27;,\n",
       "                                                  Pipeline(steps=[(&#x27;Null_values_imputation_2&#x27;,\n",
       "                                                                   SimpleImputer(strategy=&#x27;most_frequent&#x27;)),\n",
       "                                                                  (&#x27;Ordinal_Encoding&#x27;,\n",
       "                                                                   OrdinalEncoder(categories=[[&#x27;NORMAL&#x27;,\n",
       "                                                                                               &#x27;LOW&#x27;,\n",
       "                                                                                               &#x27;HIGH&#x27;],\n",
       "                                                                                              [&#x27;NORMAL&#x27;,\n",
       "                                                                                               &#x27;HIGH&#x27;]]))]),\n",
       "                                                  Index([&#x27;BP&#x27;, &#x27;Cholesterol&#x27;], dtype=&#x27;object&#x27;)),\n",
       "                                                 (&#x27;Nominal_P...\n",
       "                                                  Pipeline(steps=[(&#x27;Null_values_imputation_2&#x27;,\n",
       "                                                                   SimpleImputer(strategy=&#x27;most_frequent&#x27;)),\n",
       "                                                                  (&#x27;OH_Encoding&#x27;,\n",
       "                                                                   OneHotEncoder(drop=&#x27;first&#x27;,\n",
       "                                                                                 sparse_output=False))]),\n",
       "                                                  Index([&#x27;Sex&#x27;], dtype=&#x27;object&#x27;)),\n",
       "                                                 (&#x27;numerical_Pre-Processing&#x27;,\n",
       "                                                  Pipeline(steps=[(&#x27;Null_values_imputation_1&#x27;,\n",
       "                                                                   SimpleImputer()),\n",
       "                                                                  (&#x27;StandardScalar&#x27;,\n",
       "                                                                   StandardScaler()),\n",
       "                                                                  (&#x27;Power_Transform&#x27;,\n",
       "                                                                   PowerTransformer())]),\n",
       "                                                  Index([&#x27;Age&#x27;, &#x27;Na_to_K&#x27;], dtype=&#x27;object&#x27;))]))])</pre><b>In a Jupyter environment, please rerun this cell to show the HTML representation or trust the notebook. <br />On GitHub, the HTML representation is unable to render, please try loading this page with nbviewer.org.</b></div><div class=\"sk-container\" hidden><div class=\"sk-item sk-dashed-wrapped\"><div class=\"sk-label-container\"><div class=\"sk-label sk-toggleable\"><input class=\"sk-toggleable__control sk-hidden--visually\" id=\"sk-estimator-id-1\" type=\"checkbox\" ><label for=\"sk-estimator-id-1\" class=\"sk-toggleable__label sk-toggleable__label-arrow\">Pipeline</label><div class=\"sk-toggleable__content\"><pre>Pipeline(steps=[(&#x27;Pre-Processing&#x27;,\n",
       "                 ColumnTransformer(remainder=&#x27;passthrough&#x27;,\n",
       "                                   transformers=[(&#x27;Ordinal_Pre-Processing&#x27;,\n",
       "                                                  Pipeline(steps=[(&#x27;Null_values_imputation_2&#x27;,\n",
       "                                                                   SimpleImputer(strategy=&#x27;most_frequent&#x27;)),\n",
       "                                                                  (&#x27;Ordinal_Encoding&#x27;,\n",
       "                                                                   OrdinalEncoder(categories=[[&#x27;NORMAL&#x27;,\n",
       "                                                                                               &#x27;LOW&#x27;,\n",
       "                                                                                               &#x27;HIGH&#x27;],\n",
       "                                                                                              [&#x27;NORMAL&#x27;,\n",
       "                                                                                               &#x27;HIGH&#x27;]]))]),\n",
       "                                                  Index([&#x27;BP&#x27;, &#x27;Cholesterol&#x27;], dtype=&#x27;object&#x27;)),\n",
       "                                                 (&#x27;Nominal_P...\n",
       "                                                  Pipeline(steps=[(&#x27;Null_values_imputation_2&#x27;,\n",
       "                                                                   SimpleImputer(strategy=&#x27;most_frequent&#x27;)),\n",
       "                                                                  (&#x27;OH_Encoding&#x27;,\n",
       "                                                                   OneHotEncoder(drop=&#x27;first&#x27;,\n",
       "                                                                                 sparse_output=False))]),\n",
       "                                                  Index([&#x27;Sex&#x27;], dtype=&#x27;object&#x27;)),\n",
       "                                                 (&#x27;numerical_Pre-Processing&#x27;,\n",
       "                                                  Pipeline(steps=[(&#x27;Null_values_imputation_1&#x27;,\n",
       "                                                                   SimpleImputer()),\n",
       "                                                                  (&#x27;StandardScalar&#x27;,\n",
       "                                                                   StandardScaler()),\n",
       "                                                                  (&#x27;Power_Transform&#x27;,\n",
       "                                                                   PowerTransformer())]),\n",
       "                                                  Index([&#x27;Age&#x27;, &#x27;Na_to_K&#x27;], dtype=&#x27;object&#x27;))]))])</pre></div></div></div><div class=\"sk-serial\"><div class=\"sk-item sk-dashed-wrapped\"><div class=\"sk-label-container\"><div class=\"sk-label sk-toggleable\"><input class=\"sk-toggleable__control sk-hidden--visually\" id=\"sk-estimator-id-2\" type=\"checkbox\" ><label for=\"sk-estimator-id-2\" class=\"sk-toggleable__label sk-toggleable__label-arrow\">Pre-Processing: ColumnTransformer</label><div class=\"sk-toggleable__content\"><pre>ColumnTransformer(remainder=&#x27;passthrough&#x27;,\n",
       "                  transformers=[(&#x27;Ordinal_Pre-Processing&#x27;,\n",
       "                                 Pipeline(steps=[(&#x27;Null_values_imputation_2&#x27;,\n",
       "                                                  SimpleImputer(strategy=&#x27;most_frequent&#x27;)),\n",
       "                                                 (&#x27;Ordinal_Encoding&#x27;,\n",
       "                                                  OrdinalEncoder(categories=[[&#x27;NORMAL&#x27;,\n",
       "                                                                              &#x27;LOW&#x27;,\n",
       "                                                                              &#x27;HIGH&#x27;],\n",
       "                                                                             [&#x27;NORMAL&#x27;,\n",
       "                                                                              &#x27;HIGH&#x27;]]))]),\n",
       "                                 Index([&#x27;BP&#x27;, &#x27;Cholesterol&#x27;], dtype=&#x27;object&#x27;)),\n",
       "                                (&#x27;Nominal_Pre-Processing&#x27;,\n",
       "                                 Pipeline(steps=[(&#x27;N..._2&#x27;,\n",
       "                                                  SimpleImputer(strategy=&#x27;most_frequent&#x27;)),\n",
       "                                                 (&#x27;OH_Encoding&#x27;,\n",
       "                                                  OneHotEncoder(drop=&#x27;first&#x27;,\n",
       "                                                                sparse_output=False))]),\n",
       "                                 Index([&#x27;Sex&#x27;], dtype=&#x27;object&#x27;)),\n",
       "                                (&#x27;numerical_Pre-Processing&#x27;,\n",
       "                                 Pipeline(steps=[(&#x27;Null_values_imputation_1&#x27;,\n",
       "                                                  SimpleImputer()),\n",
       "                                                 (&#x27;StandardScalar&#x27;,\n",
       "                                                  StandardScaler()),\n",
       "                                                 (&#x27;Power_Transform&#x27;,\n",
       "                                                  PowerTransformer())]),\n",
       "                                 Index([&#x27;Age&#x27;, &#x27;Na_to_K&#x27;], dtype=&#x27;object&#x27;))])</pre></div></div></div><div class=\"sk-parallel\"><div class=\"sk-parallel-item\"><div class=\"sk-item\"><div class=\"sk-label-container\"><div class=\"sk-label sk-toggleable\"><input class=\"sk-toggleable__control sk-hidden--visually\" id=\"sk-estimator-id-3\" type=\"checkbox\" ><label for=\"sk-estimator-id-3\" class=\"sk-toggleable__label sk-toggleable__label-arrow\">Ordinal_Pre-Processing</label><div class=\"sk-toggleable__content\"><pre>Index([&#x27;BP&#x27;, &#x27;Cholesterol&#x27;], dtype=&#x27;object&#x27;)</pre></div></div></div><div class=\"sk-serial\"><div class=\"sk-item\"><div class=\"sk-serial\"><div class=\"sk-item\"><div class=\"sk-estimator sk-toggleable\"><input class=\"sk-toggleable__control sk-hidden--visually\" id=\"sk-estimator-id-4\" type=\"checkbox\" ><label for=\"sk-estimator-id-4\" class=\"sk-toggleable__label sk-toggleable__label-arrow\">SimpleImputer</label><div class=\"sk-toggleable__content\"><pre>SimpleImputer(strategy=&#x27;most_frequent&#x27;)</pre></div></div></div><div class=\"sk-item\"><div class=\"sk-estimator sk-toggleable\"><input class=\"sk-toggleable__control sk-hidden--visually\" id=\"sk-estimator-id-5\" type=\"checkbox\" ><label for=\"sk-estimator-id-5\" class=\"sk-toggleable__label sk-toggleable__label-arrow\">OrdinalEncoder</label><div class=\"sk-toggleable__content\"><pre>OrdinalEncoder(categories=[[&#x27;NORMAL&#x27;, &#x27;LOW&#x27;, &#x27;HIGH&#x27;], [&#x27;NORMAL&#x27;, &#x27;HIGH&#x27;]])</pre></div></div></div></div></div></div></div></div><div class=\"sk-parallel-item\"><div class=\"sk-item\"><div class=\"sk-label-container\"><div class=\"sk-label sk-toggleable\"><input class=\"sk-toggleable__control sk-hidden--visually\" id=\"sk-estimator-id-6\" type=\"checkbox\" ><label for=\"sk-estimator-id-6\" class=\"sk-toggleable__label sk-toggleable__label-arrow\">Nominal_Pre-Processing</label><div class=\"sk-toggleable__content\"><pre>Index([&#x27;Sex&#x27;], dtype=&#x27;object&#x27;)</pre></div></div></div><div class=\"sk-serial\"><div class=\"sk-item\"><div class=\"sk-serial\"><div class=\"sk-item\"><div class=\"sk-estimator sk-toggleable\"><input class=\"sk-toggleable__control sk-hidden--visually\" id=\"sk-estimator-id-7\" type=\"checkbox\" ><label for=\"sk-estimator-id-7\" class=\"sk-toggleable__label sk-toggleable__label-arrow\">SimpleImputer</label><div class=\"sk-toggleable__content\"><pre>SimpleImputer(strategy=&#x27;most_frequent&#x27;)</pre></div></div></div><div class=\"sk-item\"><div class=\"sk-estimator sk-toggleable\"><input class=\"sk-toggleable__control sk-hidden--visually\" id=\"sk-estimator-id-8\" type=\"checkbox\" ><label for=\"sk-estimator-id-8\" class=\"sk-toggleable__label sk-toggleable__label-arrow\">OneHotEncoder</label><div class=\"sk-toggleable__content\"><pre>OneHotEncoder(drop=&#x27;first&#x27;, sparse_output=False)</pre></div></div></div></div></div></div></div></div><div class=\"sk-parallel-item\"><div class=\"sk-item\"><div class=\"sk-label-container\"><div class=\"sk-label sk-toggleable\"><input class=\"sk-toggleable__control sk-hidden--visually\" id=\"sk-estimator-id-9\" type=\"checkbox\" ><label for=\"sk-estimator-id-9\" class=\"sk-toggleable__label sk-toggleable__label-arrow\">numerical_Pre-Processing</label><div class=\"sk-toggleable__content\"><pre>Index([&#x27;Age&#x27;, &#x27;Na_to_K&#x27;], dtype=&#x27;object&#x27;)</pre></div></div></div><div class=\"sk-serial\"><div class=\"sk-item\"><div class=\"sk-serial\"><div class=\"sk-item\"><div class=\"sk-estimator sk-toggleable\"><input class=\"sk-toggleable__control sk-hidden--visually\" id=\"sk-estimator-id-10\" type=\"checkbox\" ><label for=\"sk-estimator-id-10\" class=\"sk-toggleable__label sk-toggleable__label-arrow\">SimpleImputer</label><div class=\"sk-toggleable__content\"><pre>SimpleImputer()</pre></div></div></div><div class=\"sk-item\"><div class=\"sk-estimator sk-toggleable\"><input class=\"sk-toggleable__control sk-hidden--visually\" id=\"sk-estimator-id-11\" type=\"checkbox\" ><label for=\"sk-estimator-id-11\" class=\"sk-toggleable__label sk-toggleable__label-arrow\">StandardScaler</label><div class=\"sk-toggleable__content\"><pre>StandardScaler()</pre></div></div></div><div class=\"sk-item\"><div class=\"sk-estimator sk-toggleable\"><input class=\"sk-toggleable__control sk-hidden--visually\" id=\"sk-estimator-id-12\" type=\"checkbox\" ><label for=\"sk-estimator-id-12\" class=\"sk-toggleable__label sk-toggleable__label-arrow\">PowerTransformer</label><div class=\"sk-toggleable__content\"><pre>PowerTransformer()</pre></div></div></div></div></div></div></div></div><div class=\"sk-parallel-item\"><div class=\"sk-item\"><div class=\"sk-label-container\"><div class=\"sk-label sk-toggleable\"><input class=\"sk-toggleable__control sk-hidden--visually\" id=\"sk-estimator-id-13\" type=\"checkbox\" ><label for=\"sk-estimator-id-13\" class=\"sk-toggleable__label sk-toggleable__label-arrow\">remainder</label><div class=\"sk-toggleable__content\"><pre></pre></div></div></div><div class=\"sk-serial\"><div class=\"sk-item\"><div class=\"sk-estimator sk-toggleable\"><input class=\"sk-toggleable__control sk-hidden--visually\" id=\"sk-estimator-id-14\" type=\"checkbox\" ><label for=\"sk-estimator-id-14\" class=\"sk-toggleable__label sk-toggleable__label-arrow\">passthrough</label><div class=\"sk-toggleable__content\"><pre>passthrough</pre></div></div></div></div></div></div></div></div></div></div></div></div>"
      ],
      "text/plain": [
       "Pipeline(steps=[('Pre-Processing',\n",
       "                 ColumnTransformer(remainder='passthrough',\n",
       "                                   transformers=[('Ordinal_Pre-Processing',\n",
       "                                                  Pipeline(steps=[('Null_values_imputation_2',\n",
       "                                                                   SimpleImputer(strategy='most_frequent')),\n",
       "                                                                  ('Ordinal_Encoding',\n",
       "                                                                   OrdinalEncoder(categories=[['NORMAL',\n",
       "                                                                                               'LOW',\n",
       "                                                                                               'HIGH'],\n",
       "                                                                                              ['NORMAL',\n",
       "                                                                                               'HIGH']]))]),\n",
       "                                                  Index(['BP', 'Cholesterol'], dtype='object')),\n",
       "                                                 ('Nominal_P...\n",
       "                                                  Pipeline(steps=[('Null_values_imputation_2',\n",
       "                                                                   SimpleImputer(strategy='most_frequent')),\n",
       "                                                                  ('OH_Encoding',\n",
       "                                                                   OneHotEncoder(drop='first',\n",
       "                                                                                 sparse_output=False))]),\n",
       "                                                  Index(['Sex'], dtype='object')),\n",
       "                                                 ('numerical_Pre-Processing',\n",
       "                                                  Pipeline(steps=[('Null_values_imputation_1',\n",
       "                                                                   SimpleImputer()),\n",
       "                                                                  ('StandardScalar',\n",
       "                                                                   StandardScaler()),\n",
       "                                                                  ('Power_Transform',\n",
       "                                                                   PowerTransformer())]),\n",
       "                                                  Index(['Age', 'Na_to_K'], dtype='object'))]))])"
      ]
     },
     "execution_count": 29,
     "metadata": {},
     "output_type": "execute_result"
    }
   ],
   "source": [
    "finalp"
   ]
  },
  {
   "cell_type": "code",
   "execution_count": 30,
   "metadata": {
    "colab": {
     "base_uri": "https://localhost:8080/"
    },
    "executionInfo": {
     "elapsed": 21,
     "status": "ok",
     "timestamp": 1707154585342,
     "user": {
      "displayName": "Narasimharao",
      "userId": "17097520752763909307"
     },
     "user_tz": -330
    },
    "id": "tcwK2R4yzuqn",
    "outputId": "556a9d86-d570-41ce-fc6b-0f2ec8883b86"
   },
   "outputs": [
    {
     "data": {
      "text/plain": [
       "array([[ 2.        ,  1.        ,  0.        ,  0.61480466, -0.67906384],\n",
       "       [ 2.        ,  0.        ,  1.        ,  1.19939911,  1.93531903],\n",
       "       [ 1.        ,  0.        ,  1.        , -1.13651747,  0.91258056],\n",
       "       [ 2.        ,  1.        ,  0.        , -1.50812665, -0.61202448],\n",
       "       [ 2.        ,  0.        ,  0.        , -1.01317268,  0.6833748 ],\n",
       "       [ 2.        ,  1.        ,  1.        ,  1.48924659, -0.95701088],\n",
       "       [ 1.        ,  0.        ,  0.        ,  1.19939911, -0.07897522],\n",
       "       [ 2.        ,  1.        ,  0.        ,  0.67360392,  1.31141137],\n",
       "       [ 2.        ,  1.        ,  1.        , -1.32203934, -1.45233184],\n",
       "       [ 1.        ,  1.        ,  1.        , -1.38400768, -1.41277856],\n",
       "       [ 0.        ,  0.        ,  0.        ,  0.26007501, -1.07818152],\n",
       "       [ 0.        ,  0.        ,  0.        ,  0.73232058,  1.35012685],\n",
       "       [ 0.        ,  1.        ,  0.        ,  1.43139096, -0.90223811],\n",
       "       [ 0.        ,  0.        ,  0.        , -0.21934646,  1.10255673],\n",
       "       [ 0.        ,  1.        ,  1.        ,  0.55591957,  1.25237065],\n",
       "       [ 2.        ,  0.        ,  0.        , -1.57027444,  1.35595549],\n",
       "       [ 0.        ,  1.        ,  1.        ,  1.02476224,  0.39524163],\n",
       "       [ 2.        ,  0.        ,  0.        ,  0.7909576 ,  0.00939238],\n",
       "       [ 1.        ,  0.        ,  1.        ,  0.43787783,  1.81831697],\n",
       "       [ 2.        ,  1.        ,  0.        , -0.52285104, -0.62696618],\n",
       "       [ 1.        ,  1.        ,  0.        , -1.13651747, -0.0052004 ],\n",
       "       [ 0.        ,  0.        ,  0.        , -1.50812665, -1.1045139 ],\n",
       "       [ 1.        ,  1.        ,  1.        , -0.21934646, -0.66484277],\n",
       "       [ 0.        ,  1.        ,  1.        , -1.32203934, -0.38753876],\n",
       "       [ 0.        ,  1.        ,  0.        ,  1.66249424,  0.73119697],\n",
       "       [ 2.        ,  0.        ,  0.        , -0.4011422 , -0.59714821],\n",
       "       [ 0.        ,  0.        ,  0.        , -1.63247933, -1.24692766],\n",
       "       [ 2.        ,  0.        ,  1.        , -0.15897097, -0.27989053],\n",
       "       [ 2.        ,  1.        ,  0.        , -0.15897097,  0.92538852],\n",
       "       [ 1.        ,  1.        ,  0.        , -1.01317268, -0.20565707],\n",
       "       [ 1.        ,  1.        ,  1.        ,  1.43139096,  0.22430336],\n",
       "       [ 0.        ,  1.        ,  0.        , -1.01317268, -0.25642325],\n",
       "       [ 1.        ,  0.        ,  0.        , -0.4011422 ,  1.63094491],\n",
       "       [ 2.        ,  0.        ,  1.        ,  0.90800367, -1.28218081],\n",
       "       [ 1.        ,  1.        ,  0.        ,  1.72014122,  0.91591893],\n",
       "       [ 2.        ,  0.        ,  1.        ,  0.37871336, -0.5932077 ],\n",
       "       [ 1.        ,  0.        ,  1.        ,  0.14098937,  1.67538055],\n",
       "       [ 2.        ,  0.        ,  0.        , -0.4619482 ,  1.1191382 ],\n",
       "       [ 0.        ,  1.        ,  0.        ,  1.31551192,  0.29002526],\n",
       "       [ 1.        ,  1.        ,  1.        ,  0.49694521,  1.107746  ],\n",
       "       [ 1.        ,  0.        ,  1.        , -0.098716  ,  0.74789316],\n",
       "       [ 1.        ,  1.        ,  0.        ,  0.7909576 ,  2.10445335],\n",
       "       [ 0.        ,  0.        ,  0.        ,  1.37347989,  1.4367009 ],\n",
       "       [ 2.        ,  1.        ,  0.        , -0.4619482 , -0.21296337],\n",
       "       [ 2.        ,  0.        ,  0.        , -1.13651747, -0.37736382],\n",
       "       [ 0.        ,  1.        ,  1.        , -1.81942422, -1.15684147],\n",
       "       [ 1.        ,  0.        ,  0.        , -0.76736178, -0.71174972],\n",
       "       [ 1.        ,  0.        ,  1.        , -0.58384708, -1.13392417],\n",
       "       [ 1.        ,  1.        ,  1.        ,  0.14098937, -0.2125569 ],\n",
       "       [ 2.        ,  0.        ,  1.        , -1.26013378, -1.05357048],\n",
       "       [ 1.        ,  0.        ,  1.        , -0.52285104, -0.57449588],\n",
       "       [ 1.        ,  1.        ,  1.        ,  0.02140673,  0.57848749],\n",
       "       [ 1.        ,  1.        ,  1.        , -1.7570554 , -0.44314758],\n",
       "       [ 1.        ,  0.        ,  0.        , -0.27983684, -0.59181804],\n",
       "       [ 2.        ,  1.        ,  0.        ,  1.66249424,  0.62795724],\n",
       "       [ 2.        ,  1.        ,  1.        ,  1.37347989, -0.67147214],\n",
       "       [ 2.        ,  0.        ,  0.        ,  1.19939911,  1.75624953],\n",
       "       [ 1.        ,  0.        ,  0.        ,  1.60479695,  0.08218511],\n",
       "       [ 2.        ,  0.        ,  1.        , -0.76736178, -1.06141017],\n",
       "       [ 2.        ,  0.        ,  0.        , -1.44603727,  1.54822105],\n",
       "       [ 0.        ,  0.        ,  0.        ,  1.25748553, -1.42517743],\n",
       "       [ 0.        ,  1.        ,  0.        , -1.38400768, -1.2860221 ],\n",
       "       [ 2.        ,  0.        ,  0.        ,  0.49694521, -0.33702384],\n",
       "       [ 2.        ,  1.        ,  0.        ,  0.7909576 ,  0.75330467],\n",
       "       [ 2.        ,  1.        ,  1.        , -0.27983684,  1.49233205],\n",
       "       [ 0.        ,  0.        ,  1.        ,  0.61480466, -1.66928849],\n",
       "       [ 0.        ,  1.        ,  1.        , -1.32203934,  0.4316693 ],\n",
       "       [ 2.        ,  0.        ,  0.        , -0.76736178, -0.84546382],\n",
       "       [ 2.        ,  0.        ,  0.        , -1.38400768,  1.09474067],\n",
       "       [ 2.        ,  1.        ,  0.        , -1.32203934,  1.30826148],\n",
       "       [ 0.        ,  0.        ,  1.        ,  0.90800367, -0.89569434],\n",
       "       [ 0.        ,  1.        ,  0.        ,  0.31944737, -0.2930651 ],\n",
       "       [ 2.        ,  1.        ,  0.        , -1.63247933,  2.05106055],\n",
       "       [ 0.        ,  1.        ,  1.        ,  0.90800367,  0.17351794],\n",
       "       [ 1.        ,  0.        ,  1.        ,  0.73232058,  0.72053635],\n",
       "       [ 2.        ,  1.        ,  1.        , -0.34043698, -1.00450208],\n",
       "       [ 2.        ,  0.        ,  1.        ,  0.26007501, -1.26056135],\n",
       "       [ 2.        ,  1.        ,  1.        , -0.64493293,  0.67081633],\n",
       "       [ 1.        ,  0.        ,  1.        , -0.34043698, -0.04677221],\n",
       "       [ 0.        ,  1.        ,  1.        , -1.32203934,  1.74473435],\n",
       "       [ 1.        ,  0.        ,  0.        ,  0.96641774, -1.64603497],\n",
       "       [ 1.        ,  0.        ,  1.        ,  1.72014122, -0.45799029],\n",
       "       [ 0.        ,  0.        ,  1.        , -0.098716  , -0.26056146],\n",
       "       [ 2.        ,  0.        ,  1.        ,  0.26007501, -1.96925522],\n",
       "       [ 1.        ,  0.        ,  0.        , -0.4619482 , -0.44314758],\n",
       "       [ 2.        ,  0.        ,  1.        ,  1.72014122,  0.21745239],\n",
       "       [ 0.        ,  0.        ,  0.        ,  0.31944737, -0.37995826],\n",
       "       [ 2.        ,  1.        ,  1.        ,  1.48924659, -0.0412945 ],\n",
       "       [ 1.        ,  0.        ,  0.        , -0.15897097,  1.59125062],\n",
       "       [ 1.        ,  1.        ,  0.        ,  0.20059097,  0.15066804],\n",
       "       [ 0.        ,  0.        ,  0.        ,  0.31944737,  0.4814918 ],\n",
       "       [ 0.        ,  1.        ,  0.        ,  0.37871336, -0.11224137],\n",
       "       [ 2.        ,  1.        ,  1.        ,  0.37871336,  0.62144944],\n",
       "       [ 2.        ,  0.        ,  0.        , -0.52285104,  0.22625513],\n",
       "       [ 1.        ,  1.        ,  1.        ,  1.60479695,  0.35369007],\n",
       "       [ 2.        ,  0.        ,  1.        ,  0.20059097, -0.80740844],\n",
       "       [ 0.        ,  1.        ,  0.        , -0.76736178, -1.60593246],\n",
       "       [ 2.        ,  0.        ,  0.        , -1.81942422,  0.41400018],\n",
       "       [ 0.        ,  1.        ,  1.        ,  0.67360392, -1.18847197],\n",
       "       [ 1.        ,  1.        ,  0.        , -0.76736178, -0.99212877],\n",
       "       [ 0.        ,  1.        ,  1.        , -0.64493293,  1.06179522],\n",
       "       [ 2.        ,  0.        ,  0.        , -1.7570554 ,  0.23047532],\n",
       "       [ 0.        ,  1.        ,  0.        , -0.52285104,  0.41797737],\n",
       "       [ 0.        ,  1.        ,  0.        ,  0.84951777, -0.05700978],\n",
       "       [ 2.        ,  0.        ,  1.        , -0.21934646,  0.17099463],\n",
       "       [ 1.        ,  1.        ,  0.        , -0.70610547,  1.85089319],\n",
       "       [ 1.        ,  0.        ,  1.        ,  0.26007501, -0.11204653],\n",
       "       [ 2.        ,  0.        ,  0.        ,  1.37347989, -0.87112461],\n",
       "       [ 2.        ,  1.        ,  0.        ,  0.90800367, -0.17024616],\n",
       "       [ 1.        ,  1.        ,  1.        , -0.15897097,  0.81902362],\n",
       "       [ 0.        ,  1.        ,  1.        ,  0.96641774, -1.06193331],\n",
       "       [ 1.        ,  1.        ,  1.        ,  1.60479695, -1.8162205 ],\n",
       "       [ 1.        ,  1.        ,  1.        ,  1.37347989, -0.84571215],\n",
       "       [ 0.        ,  0.        ,  1.        ,  0.31944737,  0.27422974],\n",
       "       [ 2.        ,  1.        ,  0.        , -0.58384708, -0.25332391],\n",
       "       [ 1.        ,  0.        ,  0.        ,  0.37871336,  1.1113149 ],\n",
       "       [ 1.        ,  1.        ,  0.        , -1.01317268,  0.79546762],\n",
       "       [ 0.        ,  1.        ,  1.        , -1.26013378,  1.34188545],\n",
       "       [ 0.        ,  1.        ,  1.        , -1.01317268,  1.4377212 ],\n",
       "       [ 2.        ,  0.        ,  1.        ,  1.14125097,  0.91490807],\n",
       "       [ 0.        ,  1.        ,  0.        , -0.27983684, -0.8926777 ],\n",
       "       [ 0.        ,  1.        ,  0.        ,  1.48924659,  0.86944217],\n",
       "       [ 0.        ,  0.        ,  1.        ,  1.31551192, -1.04339978],\n",
       "       [ 0.        ,  1.        ,  1.        ,  0.49694521, -0.01021201],\n",
       "       [ 0.        ,  1.        ,  1.        , -1.19829259,  0.70701478],\n",
       "       [ 2.        ,  0.        ,  1.        , -0.82869912, -0.47312873],\n",
       "       [ 0.        ,  1.        ,  1.        ,  1.14125097, -1.52370401],\n",
       "       [ 0.        ,  1.        ,  0.        , -0.89011496, -0.80814621],\n",
       "       [ 1.        ,  1.        ,  1.        , -1.32203934, -1.65838589],\n",
       "       [ 0.        ,  0.        ,  0.        , -0.34043698, -0.99290105],\n",
       "       [ 1.        ,  0.        ,  0.        , -0.34043698,  1.08380517],\n",
       "       [ 0.        ,  0.        ,  1.        ,  1.31551192, -0.69787552],\n",
       "       [ 0.        ,  1.        ,  0.        , -1.01317268,  0.7821705 ],\n",
       "       [ 2.        ,  0.        ,  1.        , -1.81942422,  0.48081355],\n",
       "       [ 1.        ,  0.        ,  1.        ,  1.02476224,  1.44636852],\n",
       "       [ 2.        ,  1.        ,  0.        , -0.9516069 ,  1.6031111 ],\n",
       "       [ 2.        ,  0.        ,  0.        ,  0.73232058, -0.93257734],\n",
       "       [ 1.        ,  1.        ,  0.        ,  0.96641774,  0.59010241],\n",
       "       [ 1.        ,  1.        ,  0.        ,  0.14098937, -0.90173437],\n",
       "       [ 2.        ,  0.        ,  0.        , -1.26013378,  0.64125074],\n",
       "       [ 2.        ,  0.        ,  0.        , -1.13651747,  0.72432792],\n",
       "       [ 2.        ,  1.        ,  1.        , -0.9516069 , -0.26118276],\n",
       "       [ 1.        ,  0.        ,  1.        ,  1.43139096, -0.56736237],\n",
       "       [ 1.        ,  1.        ,  1.        , -0.098716  ,  0.20761192],\n",
       "       [ 1.        ,  0.        ,  0.        , -0.21934646,  0.6750935 ],\n",
       "       [ 0.        ,  0.        ,  0.        ,  0.14098937, -1.84227654],\n",
       "       [ 1.        ,  0.        ,  1.        ,  1.31551192,  0.89054756],\n",
       "       [ 1.        ,  0.        ,  1.        , -0.4619482 ,  0.41385793],\n",
       "       [ 0.        ,  0.        ,  1.        , -0.58384708, -1.49961708],\n",
       "       [ 2.        ,  0.        ,  1.        ,  1.19939911, -0.59390275],\n",
       "       [ 2.        ,  1.        ,  1.        ,  0.31944737, -1.60214183],\n",
       "       [ 2.        ,  1.        ,  1.        ,  0.7909576 ,  0.70469099],\n",
       "       [ 1.        ,  1.        ,  0.        ,  0.84951777, -0.80790027],\n",
       "       [ 2.        ,  0.        ,  1.        ,  1.60479695, -1.00114743],\n",
       "       [ 0.        ,  1.        ,  1.        ,  0.43787783, -0.94553972],\n",
       "       [ 2.        ,  0.        ,  1.        , -1.38400768,  1.52500949],\n",
       "       [ 0.        ,  0.        ,  0.        , -0.34043698,  0.48338919],\n",
       "       [ 1.        ,  0.        ,  0.        , -0.64493293, -0.24734236],\n",
       "       [ 1.        ,  1.        ,  1.        ,  0.26007501, -0.78509681],\n",
       "       [ 0.        ,  1.        ,  0.        , -1.01317268, -1.5130811 ]])"
      ]
     },
     "execution_count": 30,
     "metadata": {},
     "output_type": "execute_result"
    }
   ],
   "source": [
    "finalp.fit_transform(x_train)"
   ]
  },
  {
   "cell_type": "code",
   "execution_count": 31,
   "metadata": {
    "colab": {
     "base_uri": "https://localhost:8080/"
    },
    "executionInfo": {
     "elapsed": 9,
     "status": "ok",
     "timestamp": 1707154585981,
     "user": {
      "displayName": "Narasimharao",
      "userId": "17097520752763909307"
     },
     "user_tz": -330
    },
    "id": "q9GMbO4qzut-",
    "outputId": "6235cc2e-a6e6-4c9c-8dee-37784223a821"
   },
   "outputs": [
    {
     "data": {
      "text/plain": [
       "array(['Ordinal_Pre-Processing__BP',\n",
       "       'Ordinal_Pre-Processing__Cholesterol',\n",
       "       'Nominal_Pre-Processing__Sex_M', 'numerical_Pre-Processing__Age',\n",
       "       'numerical_Pre-Processing__Na_to_K'], dtype=object)"
      ]
     },
     "execution_count": 31,
     "metadata": {},
     "output_type": "execute_result"
    }
   ],
   "source": [
    "finalp.get_feature_names_out()"
   ]
  },
  {
   "cell_type": "code",
   "execution_count": 32,
   "metadata": {
    "executionInfo": {
     "elapsed": 8,
     "status": "ok",
     "timestamp": 1707154585981,
     "user": {
      "displayName": "Narasimharao",
      "userId": "17097520752763909307"
     },
     "user_tz": -330
    },
    "id": "I-mo6kB0UzqK"
   },
   "outputs": [],
   "source": [
    "x_trainp = finalp.fit_transform(x_train)\n",
    "x_testp = finalp.transform(x_test)"
   ]
  },
  {
   "cell_type": "markdown",
   "metadata": {
    "id": "aOoq4adgwOrN"
   },
   "source": [
    "## 7.Training"
   ]
  },
  {
   "cell_type": "code",
   "execution_count": 33,
   "metadata": {
    "executionInfo": {
     "elapsed": 7,
     "status": "ok",
     "timestamp": 1707154594555,
     "user": {
      "displayName": "Narasimharao",
      "userId": "17097520752763909307"
     },
     "user_tz": -330
    },
    "id": "2srdgyX6wOrO"
   },
   "outputs": [],
   "source": [
    "from mixed_naive_bayes import MixedNB"
   ]
  },
  {
   "cell_type": "code",
   "execution_count": 34,
   "metadata": {
    "executionInfo": {
     "elapsed": 7,
     "status": "ok",
     "timestamp": 1707154594556,
     "user": {
      "displayName": "Narasimharao",
      "userId": "17097520752763909307"
     },
     "user_tz": -330
    },
    "id": "kS656TffwOrO"
   },
   "outputs": [],
   "source": [
    "mb = MixedNB(categorical_features= [0,1,2])\n",
    "model = mb.fit(x_trainp, y_train)"
   ]
  },
  {
   "cell_type": "markdown",
   "metadata": {
    "id": "9reO3actVM4P"
   },
   "source": [
    "## 8. Model Evaluation"
   ]
  },
  {
   "cell_type": "markdown",
   "metadata": {
    "id": "vQCdgsoywOrP"
   },
   "source": [
    "#### finding precission score of model"
   ]
  },
  {
   "cell_type": "code",
   "execution_count": 35,
   "metadata": {
    "colab": {
     "base_uri": "https://localhost:8080/"
    },
    "executionInfo": {
     "elapsed": 524,
     "status": "ok",
     "timestamp": 1707154600960,
     "user": {
      "displayName": "Narasimharao",
      "userId": "17097520752763909307"
     },
     "user_tz": -330
    },
    "id": "_pRkGhHCwOrP",
    "outputId": "6ff03abc-de41-47d6-94b0-af2fb88526c5"
   },
   "outputs": [
    {
     "data": {
      "text/plain": [
       "array([[18,  0,  0,  0,  0],\n",
       "       [ 0,  5,  0,  0,  0],\n",
       "       [ 0,  0,  3,  0,  0],\n",
       "       [ 0,  0,  0,  3,  0],\n",
       "       [ 0,  0,  0,  0, 11]], dtype=int64)"
      ]
     },
     "execution_count": 35,
     "metadata": {},
     "output_type": "execute_result"
    }
   ],
   "source": [
    "from sklearn.metrics import accuracy_score,confusion_matrix,classification_report\n",
    "\n",
    "confusion_matrix(y_test,model.predict(x_testp))"
   ]
  },
  {
   "cell_type": "code",
   "execution_count": 36,
   "metadata": {
    "colab": {
     "base_uri": "https://localhost:8080/"
    },
    "executionInfo": {
     "elapsed": 6,
     "status": "ok",
     "timestamp": 1707154601649,
     "user": {
      "displayName": "Narasimharao",
      "userId": "17097520752763909307"
     },
     "user_tz": -330
    },
    "id": "_9lF8_zVDFAP",
    "outputId": "8101ae62-7b3b-4317-849b-17321e79a3f6"
   },
   "outputs": [
    {
     "data": {
      "text/plain": [
       "1.0"
      ]
     },
     "execution_count": 36,
     "metadata": {},
     "output_type": "execute_result"
    }
   ],
   "source": [
    "accuracy_score(y_test,model.predict(x_testp))"
   ]
  },
  {
   "cell_type": "code",
   "execution_count": 37,
   "metadata": {
    "colab": {
     "base_uri": "https://localhost:8080/"
    },
    "executionInfo": {
     "elapsed": 10,
     "status": "ok",
     "timestamp": 1707154602612,
     "user": {
      "displayName": "Narasimharao",
      "userId": "17097520752763909307"
     },
     "user_tz": -330
    },
    "id": "7qw038yE1K9b",
    "outputId": "845a5abd-6c5e-404d-9654-ff6e69c08545"
   },
   "outputs": [
    {
     "name": "stdout",
     "output_type": "stream",
     "text": [
      "              precision    recall  f1-score   support\n",
      "\n",
      "           0       1.00      1.00      1.00        18\n",
      "           1       1.00      1.00      1.00         5\n",
      "           2       1.00      1.00      1.00         3\n",
      "           3       1.00      1.00      1.00         3\n",
      "           4       1.00      1.00      1.00        11\n",
      "\n",
      "    accuracy                           1.00        40\n",
      "   macro avg       1.00      1.00      1.00        40\n",
      "weighted avg       1.00      1.00      1.00        40\n",
      "\n"
     ]
    }
   ],
   "source": [
    "print(classification_report(y_test, model.predict(x_testp)))"
   ]
  },
  {
   "cell_type": "markdown",
   "metadata": {
    "id": "0m-PvquYwOrP"
   },
   "source": [
    "It will give the accuracy rate of 99% by using Precision_score"
   ]
  },
  {
   "cell_type": "code",
   "execution_count": 38,
   "metadata": {
    "executionInfo": {
     "elapsed": 3,
     "status": "ok",
     "timestamp": 1707154604383,
     "user": {
      "displayName": "Narasimharao",
      "userId": "17097520752763909307"
     },
     "user_tz": -330
    },
    "id": "yOLSoCPD_j13"
   },
   "outputs": [],
   "source": [
    "import pickle"
   ]
  },
  {
   "cell_type": "code",
   "execution_count": 39,
   "metadata": {},
   "outputs": [],
   "source": [
    "pickle.dump(finalp,open(r\"C:\\Users\\Hari D\\OneDrive\\Documents\\visual studio\\naive_drug.pkl\",\"wb\"))\n",
    "pickle.dump(model,open(r\"C:\\Users\\Hari D\\OneDrive\\Documents\\visual studio\\navie_model_d.pkl\",\"wb\"))"
   ]
  },
  {
   "cell_type": "code",
   "execution_count": 40,
   "metadata": {},
   "outputs": [],
   "source": [
    "fm = pickle.load(open(r\"C:\\Users\\Hari D\\OneDrive\\Documents\\visual studio\\naive_drug.pkl\",\"rb\"))\n",
    "model1 = pickle.load(open(r\"C:\\Users\\Hari D\\OneDrive\\Documents\\visual studio\\navie_model_d.pkl\",\"rb\"))"
   ]
  },
  {
   "cell_type": "markdown",
   "metadata": {
    "id": "KODOP4BzwOrP"
   },
   "source": [
    "## 9.Testing"
   ]
  },
  {
   "cell_type": "code",
   "execution_count": 41,
   "metadata": {
    "colab": {
     "base_uri": "https://localhost:8080/"
    },
    "executionInfo": {
     "elapsed": 376,
     "status": "ok",
     "timestamp": 1707154615959,
     "user": {
      "displayName": "Narasimharao",
      "userId": "17097520752763909307"
     },
     "user_tz": -330
    },
    "id": "ufwi1ig43Qbx",
    "outputId": "c67def3d-6629-4d06-dd2a-186918a3e864"
   },
   "outputs": [
    {
     "data": {
      "text/plain": [
       "array(['DrugY', 'drugA', 'drugB', 'drugC', 'drugX'], dtype=object)"
      ]
     },
     "execution_count": 41,
     "metadata": {},
     "output_type": "execute_result"
    }
   ],
   "source": [
    "lbe.classes_  "
   ]
  },
  {
   "cell_type": "code",
   "execution_count": 42,
   "metadata": {
    "colab": {
     "base_uri": "https://localhost:8080/"
    },
    "executionInfo": {
     "elapsed": 6,
     "status": "ok",
     "timestamp": 1707154616561,
     "user": {
      "displayName": "Narasimharao",
      "userId": "17097520752763909307"
     },
     "user_tz": -330
    },
    "id": "-GPu2G5U3e74",
    "outputId": "05a87e3e-8751-4fe3-95a9-14fc8ccd0df3"
   },
   "outputs": [
    {
     "data": {
      "text/plain": [
       "{0: 'DrugY', 1: 'drugA', 2: 'drugB', 3: 'drugC', 4: 'drugX'}"
      ]
     },
     "execution_count": 42,
     "metadata": {},
     "output_type": "execute_result"
    }
   ],
   "source": [
    "dict = {}\n",
    "for i in lbe.classes_:                       \n",
    "  dict[list(lbe.classes_).index(i)] = i\n",
    "dict"
   ]
  },
  {
   "cell_type": "code",
   "execution_count": 43,
   "metadata": {
    "colab": {
     "base_uri": "https://localhost:8080/"
    },
    "executionInfo": {
     "elapsed": 6,
     "status": "ok",
     "timestamp": 1707154617947,
     "user": {
      "displayName": "Narasimharao",
      "userId": "17097520752763909307"
     },
     "user_tz": -330
    },
    "id": "XXX0K7EawOrQ",
    "outputId": "f6b3f229-8576-4044-b1e2-6c37f0389804"
   },
   "outputs": [
    {
     "name": "stdout",
     "output_type": "stream",
     "text": [
      "DrugY\n"
     ]
    }
   ],
   "source": [
    "m = pd.DataFrame(list(x_testp)).iloc[[2]]\n",
    "pred = model.predict(m)   \n",
    "print(dict[pred[0]])"
   ]
  },
  {
   "cell_type": "code",
   "execution_count": 44,
   "metadata": {},
   "outputs": [
    {
     "data": {
      "text/plain": [
       "'import streamlit as s\\n\\ns.title(\"Pridict The person which drug is used\")\\ns.title(\\'Durga\\')\\n\\nAge = s.number_input(\" Age of the person\")\\nSex = s.radio(\"Sex\",[\\'F\\',\\'M\\'])\\nBP = s.radio(\"Level of BP\",[\\'HIGH\\',\\'NORMAL\\',\\'LOW\\'])\\nCholesterol = s.radio(\"Level of Cholesterol\",[\\'HIGH\\',\\'NORMAL\\'])\\nNa_to_K = s.number_input(\"Na_to_K  of the person\")\\n\\n\\n\\n\\n\\nquery1 = finalp.transform(pd.DataFrame([[Age,Sex,BP,Cholesterol,Na_to_K]],\\n    columns=[\"Age\",\"Sex\",\"BP\",\"Cholesterol\",\"Na_to_K\"]))\\n\\npre1 = model.predict(query1)\\n\\n\\n\\nif s.button(\"submit\"):\\n    s.write(pre1)'"
      ]
     },
     "execution_count": 44,
     "metadata": {},
     "output_type": "execute_result"
    }
   ],
   "source": [
    "'''import streamlit as s\n",
    "\n",
    "s.title(\"Pridict The person which drug is used\")\n",
    "s.title('Durga')\n",
    "\n",
    "Age = s.number_input(\" Age of the person\")\n",
    "Sex = s.radio(\"Sex\",['F','M'])\n",
    "BP = s.radio(\"Level of BP\",['HIGH','NORMAL','LOW'])\n",
    "Cholesterol = s.radio(\"Level of Cholesterol\",['HIGH','NORMAL'])\n",
    "Na_to_K = s.number_input(\"Na_to_K  of the person\")\n",
    "\n",
    "\n",
    "\n",
    "\n",
    "\n",
    "query1 = finalp.transform(pd.DataFrame([[Age,Sex,BP,Cholesterol,Na_to_K]],\n",
    "    columns=[\"Age\",\"Sex\",\"BP\",\"Cholesterol\",\"Na_to_K\"]))\n",
    "\n",
    "pre1 = model.predict(query1)\n",
    "\n",
    "\n",
    "\n",
    "if s.button(\"submit\"):\n",
    "    s.write(pre1)'''\n"
   ]
  },
  {
   "cell_type": "markdown",
   "metadata": {},
   "source": [
    "# or"
   ]
  },
  {
   "cell_type": "code",
   "execution_count": 45,
   "metadata": {},
   "outputs": [
    {
     "data": {
      "text/plain": [
       "'import streamlit as s\\n\\ns.title(\"Pridict The person which drug is used\")\\ns.title(\\'Durga\\')\\n\\nAge = s.number_input(\" Age of the person\")\\nSex = s.radio(\"Sex\",[\\'F\\',\\'M\\'])\\nBP = s.radio(\"Level of BP\",[\\'HIGH\\',\\'NORMAL\\',\\'LOW\\'])\\nCholesterol = s.radio(\"Level of Cholesterol\",[\\'HIGH\\',\\'NORMAL\\'])\\nNa_to_K = s.number_input(\"Na_to_K  of the person\")\\n\\n\\n\\n\\n\\nquery1 = finalp.transform(pd.DataFrame([[Age,Sex,BP,Cholesterol,Na_to_K]],\\n    columns=[\"Age\",\"Sex\",\"BP\",\"Cholesterol\",\"Na_to_K\"]))\\n\\npre1 = model.predict(query1)\\nif pre1 == 0:\\n    x = \"DrugY\"\\nelif pre1 == 1:\\n    x=\"drugA\"\\nelif pre1 == 2:\\n    x=\"drugB\"\\nelif  pre1 == 3:\\n    x=\"drugC\"\\nelse:\\n    x=\"DrugX\"\\n\\nif s.button(\"submit\"):\\n    s.write(x)'"
      ]
     },
     "execution_count": 45,
     "metadata": {},
     "output_type": "execute_result"
    }
   ],
   "source": [
    "\"\"\"import streamlit as s\n",
    "\n",
    "s.title(\"Pridict The person which drug is used\")\n",
    "s.title('Durga')\n",
    "\n",
    "Age = s.number_input(\" Age of the person\")\n",
    "Sex = s.radio(\"Sex\",['F','M'])\n",
    "BP = s.radio(\"Level of BP\",['HIGH','NORMAL','LOW'])\n",
    "Cholesterol = s.radio(\"Level of Cholesterol\",['HIGH','NORMAL'])\n",
    "Na_to_K = s.number_input(\"Na_to_K  of the person\")\n",
    "\n",
    "\n",
    "\n",
    "\n",
    "\n",
    "query1 = finalp.transform(pd.DataFrame([[Age,Sex,BP,Cholesterol,Na_to_K]],\n",
    "    columns=[\"Age\",\"Sex\",\"BP\",\"Cholesterol\",\"Na_to_K\"]))\n",
    "\n",
    "pre1 = model.predict(query1)\n",
    "if pre1 == 0:\n",
    "    x = \"DrugY\"\n",
    "elif pre1 == 1:\n",
    "    x=\"drugA\"\n",
    "elif pre1 == 2:\n",
    "    x=\"drugB\"\n",
    "elif  pre1 == 3:\n",
    "    x=\"drugC\"\n",
    "else:\n",
    "    x=\"DrugX\"\n",
    "\n",
    "if s.button(\"submit\"):\n",
    "    s.write(x)\"\"\""
   ]
  },
  {
   "cell_type": "code",
   "execution_count": 46,
   "metadata": {},
   "outputs": [
    {
     "data": {
      "text/html": [
       "<div>\n",
       "<style scoped>\n",
       "    .dataframe tbody tr th:only-of-type {\n",
       "        vertical-align: middle;\n",
       "    }\n",
       "\n",
       "    .dataframe tbody tr th {\n",
       "        vertical-align: top;\n",
       "    }\n",
       "\n",
       "    .dataframe thead th {\n",
       "        text-align: right;\n",
       "    }\n",
       "</style>\n",
       "<table border=\"1\" class=\"dataframe\">\n",
       "  <thead>\n",
       "    <tr style=\"text-align: right;\">\n",
       "      <th></th>\n",
       "      <th>Age</th>\n",
       "      <th>Sex</th>\n",
       "      <th>BP</th>\n",
       "      <th>Cholesterol</th>\n",
       "      <th>Na_to_K</th>\n",
       "      <th>Drug</th>\n",
       "    </tr>\n",
       "  </thead>\n",
       "  <tbody>\n",
       "    <tr>\n",
       "      <th>2</th>\n",
       "      <td>47</td>\n",
       "      <td>M</td>\n",
       "      <td>LOW</td>\n",
       "      <td>HIGH</td>\n",
       "      <td>10.114</td>\n",
       "      <td>drugC</td>\n",
       "    </tr>\n",
       "    <tr>\n",
       "      <th>3</th>\n",
       "      <td>28</td>\n",
       "      <td>F</td>\n",
       "      <td>NORMAL</td>\n",
       "      <td>HIGH</td>\n",
       "      <td>7.798</td>\n",
       "      <td>drugX</td>\n",
       "    </tr>\n",
       "    <tr>\n",
       "      <th>4</th>\n",
       "      <td>61</td>\n",
       "      <td>F</td>\n",
       "      <td>LOW</td>\n",
       "      <td>HIGH</td>\n",
       "      <td>18.043</td>\n",
       "      <td>DrugY</td>\n",
       "    </tr>\n",
       "    <tr>\n",
       "      <th>5</th>\n",
       "      <td>22</td>\n",
       "      <td>F</td>\n",
       "      <td>NORMAL</td>\n",
       "      <td>HIGH</td>\n",
       "      <td>8.607</td>\n",
       "      <td>drugX</td>\n",
       "    </tr>\n",
       "    <tr>\n",
       "      <th>6</th>\n",
       "      <td>49</td>\n",
       "      <td>F</td>\n",
       "      <td>NORMAL</td>\n",
       "      <td>HIGH</td>\n",
       "      <td>16.275</td>\n",
       "      <td>DrugY</td>\n",
       "    </tr>\n",
       "    <tr>\n",
       "      <th>7</th>\n",
       "      <td>41</td>\n",
       "      <td>M</td>\n",
       "      <td>LOW</td>\n",
       "      <td>HIGH</td>\n",
       "      <td>11.037</td>\n",
       "      <td>drugC</td>\n",
       "    </tr>\n",
       "  </tbody>\n",
       "</table>\n",
       "</div>"
      ],
      "text/plain": [
       "   Age Sex      BP Cholesterol  Na_to_K   Drug\n",
       "2   47   M     LOW        HIGH   10.114  drugC\n",
       "3   28   F  NORMAL        HIGH    7.798  drugX\n",
       "4   61   F     LOW        HIGH   18.043  DrugY\n",
       "5   22   F  NORMAL        HIGH    8.607  drugX\n",
       "6   49   F  NORMAL        HIGH   16.275  DrugY\n",
       "7   41   M     LOW        HIGH   11.037  drugC"
      ]
     },
     "execution_count": 46,
     "metadata": {},
     "output_type": "execute_result"
    }
   ],
   "source": [
    "df.iloc[2:8,:]"
   ]
  },
  {
   "cell_type": "code",
   "execution_count": null,
   "metadata": {},
   "outputs": [],
   "source": []
  }
 ],
 "metadata": {
  "colab": {
   "provenance": []
  },
  "kernelspec": {
   "display_name": "Python 3 (ipykernel)",
   "language": "python",
   "name": "python3"
  },
  "language_info": {
   "codemirror_mode": {
    "name": "ipython",
    "version": 3
   },
   "file_extension": ".py",
   "mimetype": "text/x-python",
   "name": "python",
   "nbconvert_exporter": "python",
   "pygments_lexer": "ipython3",
   "version": "3.10.9"
  }
 },
 "nbformat": 4,
 "nbformat_minor": 1
}
